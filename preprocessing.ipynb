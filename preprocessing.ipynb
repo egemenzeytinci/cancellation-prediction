{
 "cells": [
  {
   "cell_type": "code",
   "execution_count": 1,
   "metadata": {
    "ExecuteTime": {
     "end_time": "2019-12-18T18:42:51.632715Z",
     "start_time": "2019-12-18T18:42:50.612511Z"
    }
   },
   "outputs": [],
   "source": [
    "import warnings\n",
    "warnings.filterwarnings('ignore')\n",
    "\n",
    "from IPython.display import display_html\n",
    "from sklearn.covariance import EllipticEnvelope\n",
    "from sklearn.neighbors import LocalOutlierFactor\n",
    "import matplotlib.pyplot as plt\n",
    "import numpy as np\n",
    "import pandas as pd\n",
    "import re"
   ]
  },
  {
   "cell_type": "markdown",
   "metadata": {},
   "source": [
    "### Intro"
   ]
  },
  {
   "cell_type": "code",
   "execution_count": 2,
   "metadata": {
    "ExecuteTime": {
     "end_time": "2019-12-18T18:42:52.006594Z",
     "start_time": "2019-12-18T18:42:51.634612Z"
    }
   },
   "outputs": [],
   "source": [
    "h1 = pd.read_csv('data/H1.csv')\n",
    "h2 = pd.read_csv('data/H2.csv')"
   ]
  },
  {
   "cell_type": "code",
   "execution_count": 3,
   "metadata": {
    "ExecuteTime": {
     "end_time": "2019-12-18T18:42:52.075714Z",
     "start_time": "2019-12-18T18:42:52.008670Z"
    }
   },
   "outputs": [],
   "source": [
    "h1.loc[:, 'id'] = range(1, len(h1) + 1)\n",
    "\n",
    "start = h1['id'].max() + 1\n",
    "stop = start + len(h2)\n",
    "h2.loc[:, 'id'] = range(start, stop)"
   ]
  },
  {
   "cell_type": "code",
   "execution_count": 4,
   "metadata": {
    "ExecuteTime": {
     "end_time": "2019-12-18T18:42:52.148429Z",
     "start_time": "2019-12-18T18:42:52.077862Z"
    }
   },
   "outputs": [],
   "source": [
    "df = pd.concat([h1, h2], ignore_index=True, sort=False)"
   ]
  },
  {
   "cell_type": "code",
   "execution_count": 5,
   "metadata": {
    "ExecuteTime": {
     "end_time": "2019-12-18T18:42:52.156774Z",
     "start_time": "2019-12-18T18:42:52.150277Z"
    }
   },
   "outputs": [
    {
     "data": {
      "text/plain": [
       "Index(['IsCanceled', 'LeadTime', 'ArrivalDateYear'], dtype='object')"
      ]
     },
     "execution_count": 5,
     "metadata": {},
     "output_type": "execute_result"
    }
   ],
   "source": [
    "df.columns[:3]"
   ]
  },
  {
   "cell_type": "markdown",
   "metadata": {},
   "source": [
    "#### Convert to `snake_case`"
   ]
  },
  {
   "cell_type": "code",
   "execution_count": 6,
   "metadata": {
    "ExecuteTime": {
     "end_time": "2019-12-18T18:42:52.170428Z",
     "start_time": "2019-12-18T18:42:52.159007Z"
    }
   },
   "outputs": [],
   "source": [
    "def convert(name):\n",
    "    s1 = re.sub('(.)([A-Z][a-z]+)', r'\\1_\\2', name)\n",
    "    return re.sub('([a-z0-9])([A-Z])', r'\\1_\\2', s1).lower()"
   ]
  },
  {
   "cell_type": "code",
   "execution_count": 7,
   "metadata": {
    "ExecuteTime": {
     "end_time": "2019-12-18T18:42:52.178470Z",
     "start_time": "2019-12-18T18:42:52.172043Z"
    }
   },
   "outputs": [],
   "source": [
    "columns = [convert(col) for col in df.columns]\n",
    "df.columns = columns"
   ]
  },
  {
   "cell_type": "markdown",
   "metadata": {},
   "source": [
    "#### Descriptive statistics"
   ]
  },
  {
   "cell_type": "code",
   "execution_count": 8,
   "metadata": {
    "ExecuteTime": {
     "end_time": "2019-12-18T18:42:52.193123Z",
     "start_time": "2019-12-18T18:42:52.185328Z"
    }
   },
   "outputs": [
    {
     "data": {
      "text/plain": [
       "(119390, 32)"
      ]
     },
     "execution_count": 8,
     "metadata": {},
     "output_type": "execute_result"
    }
   ],
   "source": [
    "# check the number of examples (rows) and features (columns)\n",
    "df.shape"
   ]
  },
  {
   "cell_type": "code",
   "execution_count": 9,
   "metadata": {
    "ExecuteTime": {
     "end_time": "2019-12-18T18:42:52.262837Z",
     "start_time": "2019-12-18T18:42:52.196543Z"
    }
   },
   "outputs": [
    {
     "data": {
      "text/plain": [
       "is_canceled                                      0\n",
       "lead_time                                      342\n",
       "arrival_date_year                             2015\n",
       "arrival_date_month                            July\n",
       "arrival_date_week_number                        27\n",
       "arrival_date_day_of_month                        1\n",
       "stays_in_weekend_nights                          0\n",
       "stays_in_week_nights                             0\n",
       "adults                                           2\n",
       "children                                         0\n",
       "babies                                           0\n",
       "meal                                     BB       \n",
       "country                                        PRT\n",
       "market_segment                              Direct\n",
       "distribution_channel                        Direct\n",
       "is_repeated_guest                                0\n",
       "previous_cancellations                           0\n",
       "previous_bookings_not_canceled                   0\n",
       "reserved_room_type                C               \n",
       "assigned_room_type                C               \n",
       "booking_changes                                  3\n",
       "deposit_type                       No Deposit     \n",
       "agent                                         NULL\n",
       "company                                       NULL\n",
       "days_in_waiting_list                             0\n",
       "customer_type                            Transient\n",
       "adr                                              0\n",
       "required_car_parking_spaces                      0\n",
       "total_of_special_requests                        0\n",
       "reservation_status                       Check-Out\n",
       "reservation_status_date                 2015-07-01\n",
       "id                                               1\n",
       "Name: 0, dtype: object"
      ]
     },
     "execution_count": 9,
     "metadata": {},
     "output_type": "execute_result"
    }
   ],
   "source": [
    "# first row of the data frame\n",
    "df.loc[0]"
   ]
  },
  {
   "cell_type": "code",
   "execution_count": 10,
   "metadata": {
    "ExecuteTime": {
     "end_time": "2019-12-18T18:42:52.301864Z",
     "start_time": "2019-12-18T18:42:52.268499Z"
    }
   },
   "outputs": [
    {
     "data": {
      "text/html": [
       "<div>\n",
       "<style scoped>\n",
       "    .dataframe tbody tr th:only-of-type {\n",
       "        vertical-align: middle;\n",
       "    }\n",
       "\n",
       "    .dataframe tbody tr th {\n",
       "        vertical-align: top;\n",
       "    }\n",
       "\n",
       "    .dataframe thead th {\n",
       "        text-align: right;\n",
       "    }\n",
       "</style>\n",
       "<table border=\"1\" class=\"dataframe\">\n",
       "  <thead>\n",
       "    <tr style=\"text-align: right;\">\n",
       "      <th></th>\n",
       "      <th>is_canceled</th>\n",
       "      <th>lead_time</th>\n",
       "      <th>arrival_date_year</th>\n",
       "      <th>arrival_date_month</th>\n",
       "      <th>arrival_date_week_number</th>\n",
       "      <th>arrival_date_day_of_month</th>\n",
       "      <th>stays_in_weekend_nights</th>\n",
       "      <th>stays_in_week_nights</th>\n",
       "      <th>adults</th>\n",
       "      <th>children</th>\n",
       "      <th>...</th>\n",
       "      <th>agent</th>\n",
       "      <th>company</th>\n",
       "      <th>days_in_waiting_list</th>\n",
       "      <th>customer_type</th>\n",
       "      <th>adr</th>\n",
       "      <th>required_car_parking_spaces</th>\n",
       "      <th>total_of_special_requests</th>\n",
       "      <th>reservation_status</th>\n",
       "      <th>reservation_status_date</th>\n",
       "      <th>id</th>\n",
       "    </tr>\n",
       "  </thead>\n",
       "  <tbody>\n",
       "    <tr>\n",
       "      <td>0</td>\n",
       "      <td>0</td>\n",
       "      <td>342</td>\n",
       "      <td>2015</td>\n",
       "      <td>July</td>\n",
       "      <td>27</td>\n",
       "      <td>1</td>\n",
       "      <td>0</td>\n",
       "      <td>0</td>\n",
       "      <td>2</td>\n",
       "      <td>0.0</td>\n",
       "      <td>...</td>\n",
       "      <td>NULL</td>\n",
       "      <td>NULL</td>\n",
       "      <td>0</td>\n",
       "      <td>Transient</td>\n",
       "      <td>0.0</td>\n",
       "      <td>0</td>\n",
       "      <td>0</td>\n",
       "      <td>Check-Out</td>\n",
       "      <td>2015-07-01</td>\n",
       "      <td>1</td>\n",
       "    </tr>\n",
       "    <tr>\n",
       "      <td>1</td>\n",
       "      <td>0</td>\n",
       "      <td>737</td>\n",
       "      <td>2015</td>\n",
       "      <td>July</td>\n",
       "      <td>27</td>\n",
       "      <td>1</td>\n",
       "      <td>0</td>\n",
       "      <td>0</td>\n",
       "      <td>2</td>\n",
       "      <td>0.0</td>\n",
       "      <td>...</td>\n",
       "      <td>NULL</td>\n",
       "      <td>NULL</td>\n",
       "      <td>0</td>\n",
       "      <td>Transient</td>\n",
       "      <td>0.0</td>\n",
       "      <td>0</td>\n",
       "      <td>0</td>\n",
       "      <td>Check-Out</td>\n",
       "      <td>2015-07-01</td>\n",
       "      <td>2</td>\n",
       "    </tr>\n",
       "    <tr>\n",
       "      <td>2</td>\n",
       "      <td>0</td>\n",
       "      <td>7</td>\n",
       "      <td>2015</td>\n",
       "      <td>July</td>\n",
       "      <td>27</td>\n",
       "      <td>1</td>\n",
       "      <td>0</td>\n",
       "      <td>1</td>\n",
       "      <td>1</td>\n",
       "      <td>0.0</td>\n",
       "      <td>...</td>\n",
       "      <td>NULL</td>\n",
       "      <td>NULL</td>\n",
       "      <td>0</td>\n",
       "      <td>Transient</td>\n",
       "      <td>75.0</td>\n",
       "      <td>0</td>\n",
       "      <td>0</td>\n",
       "      <td>Check-Out</td>\n",
       "      <td>2015-07-02</td>\n",
       "      <td>3</td>\n",
       "    </tr>\n",
       "    <tr>\n",
       "      <td>3</td>\n",
       "      <td>0</td>\n",
       "      <td>13</td>\n",
       "      <td>2015</td>\n",
       "      <td>July</td>\n",
       "      <td>27</td>\n",
       "      <td>1</td>\n",
       "      <td>0</td>\n",
       "      <td>1</td>\n",
       "      <td>1</td>\n",
       "      <td>0.0</td>\n",
       "      <td>...</td>\n",
       "      <td>304</td>\n",
       "      <td>NULL</td>\n",
       "      <td>0</td>\n",
       "      <td>Transient</td>\n",
       "      <td>75.0</td>\n",
       "      <td>0</td>\n",
       "      <td>0</td>\n",
       "      <td>Check-Out</td>\n",
       "      <td>2015-07-02</td>\n",
       "      <td>4</td>\n",
       "    </tr>\n",
       "    <tr>\n",
       "      <td>4</td>\n",
       "      <td>0</td>\n",
       "      <td>14</td>\n",
       "      <td>2015</td>\n",
       "      <td>July</td>\n",
       "      <td>27</td>\n",
       "      <td>1</td>\n",
       "      <td>0</td>\n",
       "      <td>2</td>\n",
       "      <td>2</td>\n",
       "      <td>0.0</td>\n",
       "      <td>...</td>\n",
       "      <td>240</td>\n",
       "      <td>NULL</td>\n",
       "      <td>0</td>\n",
       "      <td>Transient</td>\n",
       "      <td>98.0</td>\n",
       "      <td>0</td>\n",
       "      <td>1</td>\n",
       "      <td>Check-Out</td>\n",
       "      <td>2015-07-03</td>\n",
       "      <td>5</td>\n",
       "    </tr>\n",
       "  </tbody>\n",
       "</table>\n",
       "<p>5 rows × 32 columns</p>\n",
       "</div>"
      ],
      "text/plain": [
       "   is_canceled  lead_time  arrival_date_year arrival_date_month  \\\n",
       "0            0        342               2015               July   \n",
       "1            0        737               2015               July   \n",
       "2            0          7               2015               July   \n",
       "3            0         13               2015               July   \n",
       "4            0         14               2015               July   \n",
       "\n",
       "   arrival_date_week_number  arrival_date_day_of_month  \\\n",
       "0                        27                          1   \n",
       "1                        27                          1   \n",
       "2                        27                          1   \n",
       "3                        27                          1   \n",
       "4                        27                          1   \n",
       "\n",
       "   stays_in_weekend_nights  stays_in_week_nights  adults  children  ...  \\\n",
       "0                        0                     0       2       0.0  ...   \n",
       "1                        0                     0       2       0.0  ...   \n",
       "2                        0                     1       1       0.0  ...   \n",
       "3                        0                     1       1       0.0  ...   \n",
       "4                        0                     2       2       0.0  ...   \n",
       "\n",
       "         agent      company days_in_waiting_list customer_type   adr  \\\n",
       "0         NULL         NULL                    0     Transient   0.0   \n",
       "1         NULL         NULL                    0     Transient   0.0   \n",
       "2         NULL         NULL                    0     Transient  75.0   \n",
       "3          304         NULL                    0     Transient  75.0   \n",
       "4          240         NULL                    0     Transient  98.0   \n",
       "\n",
       "   required_car_parking_spaces  total_of_special_requests  reservation_status  \\\n",
       "0                            0                          0           Check-Out   \n",
       "1                            0                          0           Check-Out   \n",
       "2                            0                          0           Check-Out   \n",
       "3                            0                          0           Check-Out   \n",
       "4                            0                          1           Check-Out   \n",
       "\n",
       "  reservation_status_date id  \n",
       "0              2015-07-01  1  \n",
       "1              2015-07-01  2  \n",
       "2              2015-07-02  3  \n",
       "3              2015-07-02  4  \n",
       "4              2015-07-03  5  \n",
       "\n",
       "[5 rows x 32 columns]"
      ]
     },
     "execution_count": 10,
     "metadata": {},
     "output_type": "execute_result"
    }
   ],
   "source": [
    "df.head()"
   ]
  },
  {
   "cell_type": "code",
   "execution_count": 11,
   "metadata": {
    "ExecuteTime": {
     "end_time": "2019-12-18T18:42:52.377827Z",
     "start_time": "2019-12-18T18:42:52.303208Z"
    }
   },
   "outputs": [
    {
     "name": "stdout",
     "output_type": "stream",
     "text": [
      "<class 'pandas.core.frame.DataFrame'>\n",
      "RangeIndex: 119390 entries, 0 to 119389\n",
      "Data columns (total 32 columns):\n",
      "is_canceled                       119390 non-null int64\n",
      "lead_time                         119390 non-null int64\n",
      "arrival_date_year                 119390 non-null int64\n",
      "arrival_date_month                119390 non-null object\n",
      "arrival_date_week_number          119390 non-null int64\n",
      "arrival_date_day_of_month         119390 non-null int64\n",
      "stays_in_weekend_nights           119390 non-null int64\n",
      "stays_in_week_nights              119390 non-null int64\n",
      "adults                            119390 non-null int64\n",
      "children                          119386 non-null float64\n",
      "babies                            119390 non-null int64\n",
      "meal                              119390 non-null object\n",
      "country                           118902 non-null object\n",
      "market_segment                    119390 non-null object\n",
      "distribution_channel              119390 non-null object\n",
      "is_repeated_guest                 119390 non-null int64\n",
      "previous_cancellations            119390 non-null int64\n",
      "previous_bookings_not_canceled    119390 non-null int64\n",
      "reserved_room_type                119390 non-null object\n",
      "assigned_room_type                119390 non-null object\n",
      "booking_changes                   119390 non-null int64\n",
      "deposit_type                      119390 non-null object\n",
      "agent                             119390 non-null object\n",
      "company                           119390 non-null object\n",
      "days_in_waiting_list              119390 non-null int64\n",
      "customer_type                     119390 non-null object\n",
      "adr                               119390 non-null float64\n",
      "required_car_parking_spaces       119390 non-null int64\n",
      "total_of_special_requests         119390 non-null int64\n",
      "reservation_status                119390 non-null object\n",
      "reservation_status_date           119390 non-null object\n",
      "id                                119390 non-null int64\n",
      "dtypes: float64(2), int64(17), object(13)\n",
      "memory usage: 29.1+ MB\n"
     ]
    }
   ],
   "source": [
    "df.info()"
   ]
  },
  {
   "cell_type": "code",
   "execution_count": 12,
   "metadata": {
    "ExecuteTime": {
     "end_time": "2019-12-18T18:42:52.518696Z",
     "start_time": "2019-12-18T18:42:52.380859Z"
    }
   },
   "outputs": [
    {
     "data": {
      "text/html": [
       "<div>\n",
       "<style scoped>\n",
       "    .dataframe tbody tr th:only-of-type {\n",
       "        vertical-align: middle;\n",
       "    }\n",
       "\n",
       "    .dataframe tbody tr th {\n",
       "        vertical-align: top;\n",
       "    }\n",
       "\n",
       "    .dataframe thead th {\n",
       "        text-align: right;\n",
       "    }\n",
       "</style>\n",
       "<table border=\"1\" class=\"dataframe\">\n",
       "  <thead>\n",
       "    <tr style=\"text-align: right;\">\n",
       "      <th></th>\n",
       "      <th>count</th>\n",
       "      <th>mean</th>\n",
       "      <th>std</th>\n",
       "      <th>min</th>\n",
       "      <th>25%</th>\n",
       "      <th>50%</th>\n",
       "      <th>75%</th>\n",
       "      <th>max</th>\n",
       "    </tr>\n",
       "  </thead>\n",
       "  <tbody>\n",
       "    <tr>\n",
       "      <td>is_canceled</td>\n",
       "      <td>119390.0</td>\n",
       "      <td>0.370416</td>\n",
       "      <td>0.482918</td>\n",
       "      <td>0.00</td>\n",
       "      <td>0.00</td>\n",
       "      <td>0.000</td>\n",
       "      <td>1.00</td>\n",
       "      <td>1.0</td>\n",
       "    </tr>\n",
       "    <tr>\n",
       "      <td>lead_time</td>\n",
       "      <td>119390.0</td>\n",
       "      <td>104.011416</td>\n",
       "      <td>106.863097</td>\n",
       "      <td>0.00</td>\n",
       "      <td>18.00</td>\n",
       "      <td>69.000</td>\n",
       "      <td>160.00</td>\n",
       "      <td>737.0</td>\n",
       "    </tr>\n",
       "    <tr>\n",
       "      <td>arrival_date_year</td>\n",
       "      <td>119390.0</td>\n",
       "      <td>2016.156554</td>\n",
       "      <td>0.707476</td>\n",
       "      <td>2015.00</td>\n",
       "      <td>2016.00</td>\n",
       "      <td>2016.000</td>\n",
       "      <td>2017.00</td>\n",
       "      <td>2017.0</td>\n",
       "    </tr>\n",
       "    <tr>\n",
       "      <td>arrival_date_week_number</td>\n",
       "      <td>119390.0</td>\n",
       "      <td>27.165173</td>\n",
       "      <td>13.605138</td>\n",
       "      <td>1.00</td>\n",
       "      <td>16.00</td>\n",
       "      <td>28.000</td>\n",
       "      <td>38.00</td>\n",
       "      <td>53.0</td>\n",
       "    </tr>\n",
       "    <tr>\n",
       "      <td>arrival_date_day_of_month</td>\n",
       "      <td>119390.0</td>\n",
       "      <td>15.798241</td>\n",
       "      <td>8.780829</td>\n",
       "      <td>1.00</td>\n",
       "      <td>8.00</td>\n",
       "      <td>16.000</td>\n",
       "      <td>23.00</td>\n",
       "      <td>31.0</td>\n",
       "    </tr>\n",
       "    <tr>\n",
       "      <td>stays_in_weekend_nights</td>\n",
       "      <td>119390.0</td>\n",
       "      <td>0.927599</td>\n",
       "      <td>0.998613</td>\n",
       "      <td>0.00</td>\n",
       "      <td>0.00</td>\n",
       "      <td>1.000</td>\n",
       "      <td>2.00</td>\n",
       "      <td>19.0</td>\n",
       "    </tr>\n",
       "    <tr>\n",
       "      <td>stays_in_week_nights</td>\n",
       "      <td>119390.0</td>\n",
       "      <td>2.500302</td>\n",
       "      <td>1.908286</td>\n",
       "      <td>0.00</td>\n",
       "      <td>1.00</td>\n",
       "      <td>2.000</td>\n",
       "      <td>3.00</td>\n",
       "      <td>50.0</td>\n",
       "    </tr>\n",
       "    <tr>\n",
       "      <td>adults</td>\n",
       "      <td>119390.0</td>\n",
       "      <td>1.856403</td>\n",
       "      <td>0.579261</td>\n",
       "      <td>0.00</td>\n",
       "      <td>2.00</td>\n",
       "      <td>2.000</td>\n",
       "      <td>2.00</td>\n",
       "      <td>55.0</td>\n",
       "    </tr>\n",
       "    <tr>\n",
       "      <td>children</td>\n",
       "      <td>119386.0</td>\n",
       "      <td>0.103890</td>\n",
       "      <td>0.398561</td>\n",
       "      <td>0.00</td>\n",
       "      <td>0.00</td>\n",
       "      <td>0.000</td>\n",
       "      <td>0.00</td>\n",
       "      <td>10.0</td>\n",
       "    </tr>\n",
       "    <tr>\n",
       "      <td>babies</td>\n",
       "      <td>119390.0</td>\n",
       "      <td>0.007949</td>\n",
       "      <td>0.097436</td>\n",
       "      <td>0.00</td>\n",
       "      <td>0.00</td>\n",
       "      <td>0.000</td>\n",
       "      <td>0.00</td>\n",
       "      <td>10.0</td>\n",
       "    </tr>\n",
       "    <tr>\n",
       "      <td>is_repeated_guest</td>\n",
       "      <td>119390.0</td>\n",
       "      <td>0.031912</td>\n",
       "      <td>0.175767</td>\n",
       "      <td>0.00</td>\n",
       "      <td>0.00</td>\n",
       "      <td>0.000</td>\n",
       "      <td>0.00</td>\n",
       "      <td>1.0</td>\n",
       "    </tr>\n",
       "    <tr>\n",
       "      <td>previous_cancellations</td>\n",
       "      <td>119390.0</td>\n",
       "      <td>0.087118</td>\n",
       "      <td>0.844336</td>\n",
       "      <td>0.00</td>\n",
       "      <td>0.00</td>\n",
       "      <td>0.000</td>\n",
       "      <td>0.00</td>\n",
       "      <td>26.0</td>\n",
       "    </tr>\n",
       "    <tr>\n",
       "      <td>previous_bookings_not_canceled</td>\n",
       "      <td>119390.0</td>\n",
       "      <td>0.137097</td>\n",
       "      <td>1.497437</td>\n",
       "      <td>0.00</td>\n",
       "      <td>0.00</td>\n",
       "      <td>0.000</td>\n",
       "      <td>0.00</td>\n",
       "      <td>72.0</td>\n",
       "    </tr>\n",
       "    <tr>\n",
       "      <td>booking_changes</td>\n",
       "      <td>119390.0</td>\n",
       "      <td>0.221124</td>\n",
       "      <td>0.652306</td>\n",
       "      <td>0.00</td>\n",
       "      <td>0.00</td>\n",
       "      <td>0.000</td>\n",
       "      <td>0.00</td>\n",
       "      <td>21.0</td>\n",
       "    </tr>\n",
       "    <tr>\n",
       "      <td>days_in_waiting_list</td>\n",
       "      <td>119390.0</td>\n",
       "      <td>2.321149</td>\n",
       "      <td>17.594721</td>\n",
       "      <td>0.00</td>\n",
       "      <td>0.00</td>\n",
       "      <td>0.000</td>\n",
       "      <td>0.00</td>\n",
       "      <td>391.0</td>\n",
       "    </tr>\n",
       "    <tr>\n",
       "      <td>adr</td>\n",
       "      <td>119390.0</td>\n",
       "      <td>101.831122</td>\n",
       "      <td>50.535790</td>\n",
       "      <td>-6.38</td>\n",
       "      <td>69.29</td>\n",
       "      <td>94.575</td>\n",
       "      <td>126.00</td>\n",
       "      <td>5400.0</td>\n",
       "    </tr>\n",
       "    <tr>\n",
       "      <td>required_car_parking_spaces</td>\n",
       "      <td>119390.0</td>\n",
       "      <td>0.062518</td>\n",
       "      <td>0.245291</td>\n",
       "      <td>0.00</td>\n",
       "      <td>0.00</td>\n",
       "      <td>0.000</td>\n",
       "      <td>0.00</td>\n",
       "      <td>8.0</td>\n",
       "    </tr>\n",
       "    <tr>\n",
       "      <td>total_of_special_requests</td>\n",
       "      <td>119390.0</td>\n",
       "      <td>0.571363</td>\n",
       "      <td>0.792798</td>\n",
       "      <td>0.00</td>\n",
       "      <td>0.00</td>\n",
       "      <td>0.000</td>\n",
       "      <td>1.00</td>\n",
       "      <td>5.0</td>\n",
       "    </tr>\n",
       "    <tr>\n",
       "      <td>id</td>\n",
       "      <td>119390.0</td>\n",
       "      <td>59695.500000</td>\n",
       "      <td>34465.068657</td>\n",
       "      <td>1.00</td>\n",
       "      <td>29848.25</td>\n",
       "      <td>59695.500</td>\n",
       "      <td>89542.75</td>\n",
       "      <td>119390.0</td>\n",
       "    </tr>\n",
       "  </tbody>\n",
       "</table>\n",
       "</div>"
      ],
      "text/plain": [
       "                                   count          mean           std      min  \\\n",
       "is_canceled                     119390.0      0.370416      0.482918     0.00   \n",
       "lead_time                       119390.0    104.011416    106.863097     0.00   \n",
       "arrival_date_year               119390.0   2016.156554      0.707476  2015.00   \n",
       "arrival_date_week_number        119390.0     27.165173     13.605138     1.00   \n",
       "arrival_date_day_of_month       119390.0     15.798241      8.780829     1.00   \n",
       "stays_in_weekend_nights         119390.0      0.927599      0.998613     0.00   \n",
       "stays_in_week_nights            119390.0      2.500302      1.908286     0.00   \n",
       "adults                          119390.0      1.856403      0.579261     0.00   \n",
       "children                        119386.0      0.103890      0.398561     0.00   \n",
       "babies                          119390.0      0.007949      0.097436     0.00   \n",
       "is_repeated_guest               119390.0      0.031912      0.175767     0.00   \n",
       "previous_cancellations          119390.0      0.087118      0.844336     0.00   \n",
       "previous_bookings_not_canceled  119390.0      0.137097      1.497437     0.00   \n",
       "booking_changes                 119390.0      0.221124      0.652306     0.00   \n",
       "days_in_waiting_list            119390.0      2.321149     17.594721     0.00   \n",
       "adr                             119390.0    101.831122     50.535790    -6.38   \n",
       "required_car_parking_spaces     119390.0      0.062518      0.245291     0.00   \n",
       "total_of_special_requests       119390.0      0.571363      0.792798     0.00   \n",
       "id                              119390.0  59695.500000  34465.068657     1.00   \n",
       "\n",
       "                                     25%        50%       75%       max  \n",
       "is_canceled                         0.00      0.000      1.00       1.0  \n",
       "lead_time                          18.00     69.000    160.00     737.0  \n",
       "arrival_date_year                2016.00   2016.000   2017.00    2017.0  \n",
       "arrival_date_week_number           16.00     28.000     38.00      53.0  \n",
       "arrival_date_day_of_month           8.00     16.000     23.00      31.0  \n",
       "stays_in_weekend_nights             0.00      1.000      2.00      19.0  \n",
       "stays_in_week_nights                1.00      2.000      3.00      50.0  \n",
       "adults                              2.00      2.000      2.00      55.0  \n",
       "children                            0.00      0.000      0.00      10.0  \n",
       "babies                              0.00      0.000      0.00      10.0  \n",
       "is_repeated_guest                   0.00      0.000      0.00       1.0  \n",
       "previous_cancellations              0.00      0.000      0.00      26.0  \n",
       "previous_bookings_not_canceled      0.00      0.000      0.00      72.0  \n",
       "booking_changes                     0.00      0.000      0.00      21.0  \n",
       "days_in_waiting_list                0.00      0.000      0.00     391.0  \n",
       "adr                                69.29     94.575    126.00    5400.0  \n",
       "required_car_parking_spaces         0.00      0.000      0.00       8.0  \n",
       "total_of_special_requests           0.00      0.000      1.00       5.0  \n",
       "id                              29848.25  59695.500  89542.75  119390.0  "
      ]
     },
     "execution_count": 12,
     "metadata": {},
     "output_type": "execute_result"
    }
   ],
   "source": [
    "df.describe().T"
   ]
  },
  {
   "cell_type": "markdown",
   "metadata": {},
   "source": [
    "<a id='rule1'>RULE-1</a>\n",
    "- Meal types\n",
    "    - Undefined/SC = No meal package\n",
    "    - BB = Bed & Breakfast\n",
    "    - HB = Half board (Breakfast and one other meal – usually dinner)\n",
    "    - FB = Full board (Breakfast, lunch and dinner)"
   ]
  },
  {
   "cell_type": "code",
   "execution_count": 13,
   "metadata": {
    "ExecuteTime": {
     "end_time": "2019-12-18T18:42:52.532698Z",
     "start_time": "2019-12-18T18:42:52.522024Z"
    }
   },
   "outputs": [
    {
     "data": {
      "text/plain": [
       "array(['BB       ', 'FB       ', 'HB       ', 'SC       ', 'Undefined'],\n",
       "      dtype=object)"
      ]
     },
     "execution_count": 13,
     "metadata": {},
     "output_type": "execute_result"
    }
   ],
   "source": [
    "# for detailed info: https://www.sciencedirect.com/science/article/pii/S2352340918315191\n",
    "df.meal.unique()"
   ]
  },
  {
   "cell_type": "code",
   "execution_count": 14,
   "metadata": {
    "ExecuteTime": {
     "end_time": "2019-12-18T18:42:52.547228Z",
     "start_time": "2019-12-18T18:42:52.535723Z"
    }
   },
   "outputs": [
    {
     "data": {
      "text/plain": [
       "array(['PRT', 'GBR', 'USA', 'ESP', 'IRL', 'FRA', nan, 'ROU', 'NOR', 'OMN',\n",
       "       'ARG', 'POL', 'DEU', 'BEL', 'CHE', 'CN', 'GRC', 'ITA', 'NLD',\n",
       "       'DNK', 'RUS', 'SWE', 'AUS', 'EST', 'CZE', 'BRA', 'FIN', 'MOZ',\n",
       "       'BWA', 'LUX', 'SVN', 'ALB', 'IND', 'CHN', 'MEX', 'MAR', 'UKR',\n",
       "       'SMR', 'LVA', 'PRI', 'SRB', 'CHL', 'AUT', 'BLR', 'LTU', 'TUR',\n",
       "       'ZAF', 'AGO', 'ISR', 'CYM', 'ZMB', 'CPV', 'ZWE', 'DZA', 'KOR',\n",
       "       'CRI', 'HUN', 'ARE', 'TUN', 'JAM', 'HRV', 'HKG', 'IRN', 'GEO',\n",
       "       'AND', 'GIB', 'URY', 'JEY', 'CAF', 'CYP', 'COL', 'GGY', 'KWT',\n",
       "       'NGA', 'MDV', 'VEN', 'SVK', 'FJI', 'KAZ', 'PAK', 'IDN', 'LBN',\n",
       "       'PHL', 'SEN', 'SYC', 'AZE', 'BHR', 'NZL', 'THA', 'DOM', 'MKD',\n",
       "       'MYS', 'ARM', 'JPN', 'LKA', 'CUB', 'CMR', 'BIH', 'MUS', 'COM',\n",
       "       'SUR', 'UGA', 'BGR', 'CIV', 'JOR', 'SYR', 'SGP', 'BDI', 'SAU',\n",
       "       'VNM', 'PLW', 'QAT', 'EGY', 'PER', 'MLT', 'MWI', 'ECU', 'MDG',\n",
       "       'ISL', 'UZB', 'NPL', 'BHS', 'MAC', 'TGO', 'TWN', 'DJI', 'STP',\n",
       "       'KNA', 'ETH', 'IRQ', 'HND', 'RWA', 'KHM', 'MCO', 'BGD', 'IMN',\n",
       "       'TJK', 'NIC', 'BEN', 'VGB', 'TZA', 'GAB', 'GHA', 'TMP', 'GLP',\n",
       "       'KEN', 'LIE', 'GNB', 'MNE', 'UMI', 'MYT', 'FRO', 'MMR', 'PAN',\n",
       "       'BFA', 'LBY', 'MLI', 'NAM', 'BOL', 'PRY', 'BRB', 'ABW', 'AIA',\n",
       "       'SLV', 'DMA', 'PYF', 'GUY', 'LCA', 'ATA', 'GTM', 'ASM', 'MRT',\n",
       "       'NCL', 'KIR', 'SDN', 'ATF', 'SLE', 'LAO'], dtype=object)"
      ]
     },
     "execution_count": 14,
     "metadata": {},
     "output_type": "execute_result"
    }
   ],
   "source": [
    "df.country.unique()"
   ]
  },
  {
   "cell_type": "markdown",
   "metadata": {},
   "source": [
    "- Customer Types\n",
    "    - Contract: When the booking has an allotment or other type of contract associated to it\n",
    "    - Group: When the booking is associated to a group\n",
    "    - Transient: When the booking is not part of a group or contract, and is not associated to other transient booking\n",
    "    - Transient-party: When the booking is transient, but is associated to at least other transient booking"
   ]
  },
  {
   "cell_type": "code",
   "execution_count": 15,
   "metadata": {
    "ExecuteTime": {
     "end_time": "2019-12-18T18:42:52.559088Z",
     "start_time": "2019-12-18T18:42:52.548897Z"
    }
   },
   "outputs": [
    {
     "data": {
      "text/plain": [
       "array(['Transient', 'Contract', 'Transient-Party', 'Group'], dtype=object)"
      ]
     },
     "execution_count": 15,
     "metadata": {},
     "output_type": "execute_result"
    }
   ],
   "source": [
    "df.customer_type.unique()"
   ]
  },
  {
   "cell_type": "markdown",
   "metadata": {},
   "source": [
    "<a id='rule2'>RULE-2</a>\n",
    "<br>\n",
    "<br>\n",
    "The PMS assured no missing data exists in its database tables. However, in some categorical variables like `Agent` or `Company`, `NULL` is presented as one of the categories. This should not be considered a missing value, but rather as *not applicable*. For example, if a booking `Agent` is defined as `NULL` it means that the booking did not came from a travel agent."
   ]
  },
  {
   "cell_type": "code",
   "execution_count": 16,
   "metadata": {
    "ExecuteTime": {
     "end_time": "2019-12-18T18:42:52.591813Z",
     "start_time": "2019-12-18T18:42:52.562536Z"
    }
   },
   "outputs": [
    {
     "data": {
      "text/html": [
       "<div>\n",
       "<style scoped>\n",
       "    .dataframe tbody tr th:only-of-type {\n",
       "        vertical-align: middle;\n",
       "    }\n",
       "\n",
       "    .dataframe tbody tr th {\n",
       "        vertical-align: top;\n",
       "    }\n",
       "\n",
       "    .dataframe thead th {\n",
       "        text-align: right;\n",
       "    }\n",
       "</style>\n",
       "<table border=\"1\" class=\"dataframe\">\n",
       "  <thead>\n",
       "    <tr style=\"text-align: right;\">\n",
       "      <th></th>\n",
       "      <th>company</th>\n",
       "      <th>bookings</th>\n",
       "    </tr>\n",
       "  </thead>\n",
       "  <tbody>\n",
       "    <tr>\n",
       "      <td>352</td>\n",
       "      <td>NULL</td>\n",
       "      <td>112593</td>\n",
       "    </tr>\n",
       "    <tr>\n",
       "      <td>20</td>\n",
       "      <td>40</td>\n",
       "      <td>927</td>\n",
       "    </tr>\n",
       "    <tr>\n",
       "      <td>131</td>\n",
       "      <td>223</td>\n",
       "      <td>784</td>\n",
       "    </tr>\n",
       "    <tr>\n",
       "      <td>37</td>\n",
       "      <td>67</td>\n",
       "      <td>267</td>\n",
       "    </tr>\n",
       "    <tr>\n",
       "      <td>23</td>\n",
       "      <td>45</td>\n",
       "      <td>250</td>\n",
       "    </tr>\n",
       "    <tr>\n",
       "      <td>...</td>\n",
       "      <td>...</td>\n",
       "      <td>...</td>\n",
       "    </tr>\n",
       "    <tr>\n",
       "      <td>172</td>\n",
       "      <td>284</td>\n",
       "      <td>1</td>\n",
       "    </tr>\n",
       "    <tr>\n",
       "      <td>175</td>\n",
       "      <td>288</td>\n",
       "      <td>1</td>\n",
       "    </tr>\n",
       "    <tr>\n",
       "      <td>281</td>\n",
       "      <td>425</td>\n",
       "      <td>1</td>\n",
       "    </tr>\n",
       "    <tr>\n",
       "      <td>1</td>\n",
       "      <td>8</td>\n",
       "      <td>1</td>\n",
       "    </tr>\n",
       "    <tr>\n",
       "      <td>0</td>\n",
       "      <td>6</td>\n",
       "      <td>1</td>\n",
       "    </tr>\n",
       "  </tbody>\n",
       "</table>\n",
       "<p>353 rows × 2 columns</p>\n",
       "</div>"
      ],
      "text/plain": [
       "         company  bookings\n",
       "352         NULL    112593\n",
       "20            40       927\n",
       "131          223       784\n",
       "37            67       267\n",
       "23            45       250\n",
       "..           ...       ...\n",
       "172          284         1\n",
       "175          288         1\n",
       "281          425         1\n",
       "1              8         1\n",
       "0              6         1\n",
       "\n",
       "[353 rows x 2 columns]"
      ]
     },
     "execution_count": 16,
     "metadata": {},
     "output_type": "execute_result"
    }
   ],
   "source": [
    "df.groupby('company') \\\n",
    "    .size() \\\n",
    "    .reset_index() \\\n",
    "    .rename(columns={0: 'bookings'}) \\\n",
    "    .sort_values(by='bookings', ascending=False)"
   ]
  },
  {
   "cell_type": "code",
   "execution_count": 17,
   "metadata": {
    "ExecuteTime": {
     "end_time": "2019-12-18T18:42:52.617774Z",
     "start_time": "2019-12-18T18:42:52.593332Z"
    }
   },
   "outputs": [
    {
     "data": {
      "text/html": [
       "<div>\n",
       "<style scoped>\n",
       "    .dataframe tbody tr th:only-of-type {\n",
       "        vertical-align: middle;\n",
       "    }\n",
       "\n",
       "    .dataframe tbody tr th {\n",
       "        vertical-align: top;\n",
       "    }\n",
       "\n",
       "    .dataframe thead th {\n",
       "        text-align: right;\n",
       "    }\n",
       "</style>\n",
       "<table border=\"1\" class=\"dataframe\">\n",
       "  <thead>\n",
       "    <tr style=\"text-align: right;\">\n",
       "      <th></th>\n",
       "      <th>agent</th>\n",
       "      <th>bookings</th>\n",
       "    </tr>\n",
       "  </thead>\n",
       "  <tbody>\n",
       "    <tr>\n",
       "      <td>8</td>\n",
       "      <td>9</td>\n",
       "      <td>31961</td>\n",
       "    </tr>\n",
       "    <tr>\n",
       "      <td>333</td>\n",
       "      <td>NULL</td>\n",
       "      <td>16340</td>\n",
       "    </tr>\n",
       "    <tr>\n",
       "      <td>173</td>\n",
       "      <td>240</td>\n",
       "      <td>13922</td>\n",
       "    </tr>\n",
       "    <tr>\n",
       "      <td>0</td>\n",
       "      <td>1</td>\n",
       "      <td>7191</td>\n",
       "    </tr>\n",
       "    <tr>\n",
       "      <td>13</td>\n",
       "      <td>14</td>\n",
       "      <td>3640</td>\n",
       "    </tr>\n",
       "    <tr>\n",
       "      <td>...</td>\n",
       "      <td>...</td>\n",
       "      <td>...</td>\n",
       "    </tr>\n",
       "    <tr>\n",
       "      <td>200</td>\n",
       "      <td>280</td>\n",
       "      <td>1</td>\n",
       "    </tr>\n",
       "    <tr>\n",
       "      <td>298</td>\n",
       "      <td>444</td>\n",
       "      <td>1</td>\n",
       "    </tr>\n",
       "    <tr>\n",
       "      <td>299</td>\n",
       "      <td>446</td>\n",
       "      <td>1</td>\n",
       "    </tr>\n",
       "    <tr>\n",
       "      <td>199</td>\n",
       "      <td>278</td>\n",
       "      <td>1</td>\n",
       "    </tr>\n",
       "    <tr>\n",
       "      <td>302</td>\n",
       "      <td>451</td>\n",
       "      <td>1</td>\n",
       "    </tr>\n",
       "  </tbody>\n",
       "</table>\n",
       "<p>334 rows × 2 columns</p>\n",
       "</div>"
      ],
      "text/plain": [
       "           agent  bookings\n",
       "8              9     31961\n",
       "333         NULL     16340\n",
       "173          240     13922\n",
       "0              1      7191\n",
       "13            14      3640\n",
       "..           ...       ...\n",
       "200          280         1\n",
       "298          444         1\n",
       "299          446         1\n",
       "199          278         1\n",
       "302          451         1\n",
       "\n",
       "[334 rows x 2 columns]"
      ]
     },
     "execution_count": 17,
     "metadata": {},
     "output_type": "execute_result"
    }
   ],
   "source": [
    "df.groupby('agent') \\\n",
    "    .size() \\\n",
    "    .reset_index() \\\n",
    "    .rename(columns={0: 'bookings'}) \\\n",
    "    .sort_values(by='bookings', ascending=False)"
   ]
  },
  {
   "cell_type": "markdown",
   "metadata": {},
   "source": [
    "### Preprocessing"
   ]
  },
  {
   "cell_type": "markdown",
   "metadata": {},
   "source": [
    "#### Convert `NULL` or `Undefined` string to `np.nan`"
   ]
  },
  {
   "cell_type": "code",
   "execution_count": 18,
   "metadata": {
    "ExecuteTime": {
     "end_time": "2019-12-18T18:42:54.029502Z",
     "start_time": "2019-12-18T18:42:52.619391Z"
    }
   },
   "outputs": [],
   "source": [
    "for col in df.columns:\n",
    "    if df[col].dtype == 'object' and col != 'country':\n",
    "        df.loc[df[col].str.contains('NULL'), col] = np.nan\n",
    "        df.loc[df[col].str.contains('Undefined', na=False), col] = np.nan"
   ]
  },
  {
   "cell_type": "code",
   "execution_count": 19,
   "metadata": {
    "ExecuteTime": {
     "end_time": "2019-12-18T18:42:54.082528Z",
     "start_time": "2019-12-18T18:42:54.031238Z"
    }
   },
   "outputs": [
    {
     "data": {
      "text/plain": [
       "is_canceled                            0\n",
       "lead_time                              0\n",
       "arrival_date_year                      0\n",
       "arrival_date_month                     0\n",
       "arrival_date_week_number               0\n",
       "arrival_date_day_of_month              0\n",
       "stays_in_weekend_nights                0\n",
       "stays_in_week_nights                   0\n",
       "adults                                 0\n",
       "children                               4\n",
       "babies                                 0\n",
       "meal                                1169\n",
       "country                              488\n",
       "market_segment                         2\n",
       "distribution_channel                   5\n",
       "is_repeated_guest                      0\n",
       "previous_cancellations                 0\n",
       "previous_bookings_not_canceled         0\n",
       "reserved_room_type                     0\n",
       "assigned_room_type                     0\n",
       "booking_changes                        0\n",
       "deposit_type                           0\n",
       "agent                              16340\n",
       "company                           112593\n",
       "days_in_waiting_list                   0\n",
       "customer_type                          0\n",
       "adr                                    0\n",
       "required_car_parking_spaces            0\n",
       "total_of_special_requests              0\n",
       "reservation_status                     0\n",
       "reservation_status_date                0\n",
       "id                                     0\n",
       "dtype: int64"
      ]
     },
     "execution_count": 19,
     "metadata": {},
     "output_type": "execute_result"
    }
   ],
   "source": [
    "df.isnull().sum()"
   ]
  },
  {
   "cell_type": "markdown",
   "metadata": {},
   "source": [
    "#### Delete some missing values"
   ]
  },
  {
   "cell_type": "code",
   "execution_count": 20,
   "metadata": {
    "ExecuteTime": {
     "end_time": "2019-12-18T18:42:54.119924Z",
     "start_time": "2019-12-18T18:42:54.084705Z"
    }
   },
   "outputs": [],
   "source": [
    "subset = [\n",
    "    'country', \n",
    "    'children', \n",
    "    'market_segment', \n",
    "    'distribution_channel',\n",
    "]\n",
    "df = df.dropna(subset=subset)"
   ]
  },
  {
   "cell_type": "markdown",
   "metadata": {},
   "source": [
    "#### Fill missing values by rule-set\n",
    "[Meal type](#rule1)<br>\n",
    "[Agent and company](#rule2)"
   ]
  },
  {
   "cell_type": "code",
   "execution_count": 21,
   "metadata": {
    "ExecuteTime": {
     "end_time": "2019-12-18T18:42:54.157982Z",
     "start_time": "2019-12-18T18:42:54.121527Z"
    }
   },
   "outputs": [],
   "source": [
    "df.loc[df.agent.isnull(), 'agent'] = 999\n",
    "df.loc[df.company.isnull(), 'company'] = 999\n",
    "df.loc[df.meal.isnull(), 'meal'] = 'SC'"
   ]
  },
  {
   "cell_type": "markdown",
   "metadata": {},
   "source": [
    "#### Cleaning wrong values"
   ]
  },
  {
   "cell_type": "code",
   "execution_count": 22,
   "metadata": {
    "ExecuteTime": {
     "end_time": "2019-12-18T18:42:54.276892Z",
     "start_time": "2019-12-18T18:42:54.159814Z"
    }
   },
   "outputs": [
    {
     "data": {
      "text/html": [
       "<div>\n",
       "<style scoped>\n",
       "    .dataframe tbody tr th:only-of-type {\n",
       "        vertical-align: middle;\n",
       "    }\n",
       "\n",
       "    .dataframe tbody tr th {\n",
       "        vertical-align: top;\n",
       "    }\n",
       "\n",
       "    .dataframe thead th {\n",
       "        text-align: right;\n",
       "    }\n",
       "</style>\n",
       "<table border=\"1\" class=\"dataframe\">\n",
       "  <thead>\n",
       "    <tr style=\"text-align: right;\">\n",
       "      <th></th>\n",
       "      <th>count</th>\n",
       "      <th>mean</th>\n",
       "      <th>std</th>\n",
       "      <th>min</th>\n",
       "      <th>25%</th>\n",
       "      <th>50%</th>\n",
       "      <th>75%</th>\n",
       "      <th>max</th>\n",
       "    </tr>\n",
       "  </thead>\n",
       "  <tbody>\n",
       "    <tr>\n",
       "      <td>is_canceled</td>\n",
       "      <td>118897.0</td>\n",
       "      <td>0.371355</td>\n",
       "      <td>0.483169</td>\n",
       "      <td>0.00</td>\n",
       "      <td>0.0</td>\n",
       "      <td>0.0</td>\n",
       "      <td>1.0</td>\n",
       "      <td>1.0</td>\n",
       "    </tr>\n",
       "    <tr>\n",
       "      <td>lead_time</td>\n",
       "      <td>118897.0</td>\n",
       "      <td>104.311446</td>\n",
       "      <td>106.903759</td>\n",
       "      <td>0.00</td>\n",
       "      <td>18.0</td>\n",
       "      <td>69.0</td>\n",
       "      <td>161.0</td>\n",
       "      <td>737.0</td>\n",
       "    </tr>\n",
       "    <tr>\n",
       "      <td>arrival_date_year</td>\n",
       "      <td>118897.0</td>\n",
       "      <td>2016.157666</td>\n",
       "      <td>0.707454</td>\n",
       "      <td>2015.00</td>\n",
       "      <td>2016.0</td>\n",
       "      <td>2016.0</td>\n",
       "      <td>2017.0</td>\n",
       "      <td>2017.0</td>\n",
       "    </tr>\n",
       "    <tr>\n",
       "      <td>arrival_date_week_number</td>\n",
       "      <td>118897.0</td>\n",
       "      <td>27.166548</td>\n",
       "      <td>13.590028</td>\n",
       "      <td>1.00</td>\n",
       "      <td>16.0</td>\n",
       "      <td>28.0</td>\n",
       "      <td>38.0</td>\n",
       "      <td>53.0</td>\n",
       "    </tr>\n",
       "    <tr>\n",
       "      <td>arrival_date_day_of_month</td>\n",
       "      <td>118897.0</td>\n",
       "      <td>15.800971</td>\n",
       "      <td>8.780305</td>\n",
       "      <td>1.00</td>\n",
       "      <td>8.0</td>\n",
       "      <td>16.0</td>\n",
       "      <td>23.0</td>\n",
       "      <td>31.0</td>\n",
       "    </tr>\n",
       "    <tr>\n",
       "      <td>stays_in_weekend_nights</td>\n",
       "      <td>118897.0</td>\n",
       "      <td>0.928888</td>\n",
       "      <td>0.996215</td>\n",
       "      <td>0.00</td>\n",
       "      <td>0.0</td>\n",
       "      <td>1.0</td>\n",
       "      <td>2.0</td>\n",
       "      <td>16.0</td>\n",
       "    </tr>\n",
       "    <tr>\n",
       "      <td>stays_in_week_nights</td>\n",
       "      <td>118897.0</td>\n",
       "      <td>2.502141</td>\n",
       "      <td>1.900175</td>\n",
       "      <td>0.00</td>\n",
       "      <td>1.0</td>\n",
       "      <td>2.0</td>\n",
       "      <td>3.0</td>\n",
       "      <td>41.0</td>\n",
       "    </tr>\n",
       "    <tr>\n",
       "      <td>adults</td>\n",
       "      <td>118897.0</td>\n",
       "      <td>1.858390</td>\n",
       "      <td>0.578578</td>\n",
       "      <td>0.00</td>\n",
       "      <td>2.0</td>\n",
       "      <td>2.0</td>\n",
       "      <td>2.0</td>\n",
       "      <td>55.0</td>\n",
       "    </tr>\n",
       "    <tr>\n",
       "      <td>children</td>\n",
       "      <td>118897.0</td>\n",
       "      <td>0.104199</td>\n",
       "      <td>0.399166</td>\n",
       "      <td>0.00</td>\n",
       "      <td>0.0</td>\n",
       "      <td>0.0</td>\n",
       "      <td>0.0</td>\n",
       "      <td>10.0</td>\n",
       "    </tr>\n",
       "    <tr>\n",
       "      <td>babies</td>\n",
       "      <td>118897.0</td>\n",
       "      <td>0.007948</td>\n",
       "      <td>0.097381</td>\n",
       "      <td>0.00</td>\n",
       "      <td>0.0</td>\n",
       "      <td>0.0</td>\n",
       "      <td>0.0</td>\n",
       "      <td>10.0</td>\n",
       "    </tr>\n",
       "    <tr>\n",
       "      <td>is_repeated_guest</td>\n",
       "      <td>118897.0</td>\n",
       "      <td>0.032011</td>\n",
       "      <td>0.176030</td>\n",
       "      <td>0.00</td>\n",
       "      <td>0.0</td>\n",
       "      <td>0.0</td>\n",
       "      <td>0.0</td>\n",
       "      <td>1.0</td>\n",
       "    </tr>\n",
       "    <tr>\n",
       "      <td>previous_cancellations</td>\n",
       "      <td>118897.0</td>\n",
       "      <td>0.087143</td>\n",
       "      <td>0.845872</td>\n",
       "      <td>0.00</td>\n",
       "      <td>0.0</td>\n",
       "      <td>0.0</td>\n",
       "      <td>0.0</td>\n",
       "      <td>26.0</td>\n",
       "    </tr>\n",
       "    <tr>\n",
       "      <td>previous_bookings_not_canceled</td>\n",
       "      <td>118897.0</td>\n",
       "      <td>0.131635</td>\n",
       "      <td>1.484678</td>\n",
       "      <td>0.00</td>\n",
       "      <td>0.0</td>\n",
       "      <td>0.0</td>\n",
       "      <td>0.0</td>\n",
       "      <td>72.0</td>\n",
       "    </tr>\n",
       "    <tr>\n",
       "      <td>booking_changes</td>\n",
       "      <td>118897.0</td>\n",
       "      <td>0.221183</td>\n",
       "      <td>0.652787</td>\n",
       "      <td>0.00</td>\n",
       "      <td>0.0</td>\n",
       "      <td>0.0</td>\n",
       "      <td>0.0</td>\n",
       "      <td>21.0</td>\n",
       "    </tr>\n",
       "    <tr>\n",
       "      <td>days_in_waiting_list</td>\n",
       "      <td>118897.0</td>\n",
       "      <td>2.330774</td>\n",
       "      <td>17.630525</td>\n",
       "      <td>0.00</td>\n",
       "      <td>0.0</td>\n",
       "      <td>0.0</td>\n",
       "      <td>0.0</td>\n",
       "      <td>391.0</td>\n",
       "    </tr>\n",
       "    <tr>\n",
       "      <td>adr</td>\n",
       "      <td>118897.0</td>\n",
       "      <td>102.003153</td>\n",
       "      <td>50.486065</td>\n",
       "      <td>-6.38</td>\n",
       "      <td>70.0</td>\n",
       "      <td>95.0</td>\n",
       "      <td>126.0</td>\n",
       "      <td>5400.0</td>\n",
       "    </tr>\n",
       "    <tr>\n",
       "      <td>required_car_parking_spaces</td>\n",
       "      <td>118897.0</td>\n",
       "      <td>0.061877</td>\n",
       "      <td>0.244158</td>\n",
       "      <td>0.00</td>\n",
       "      <td>0.0</td>\n",
       "      <td>0.0</td>\n",
       "      <td>0.0</td>\n",
       "      <td>8.0</td>\n",
       "    </tr>\n",
       "    <tr>\n",
       "      <td>total_of_special_requests</td>\n",
       "      <td>118897.0</td>\n",
       "      <td>0.571671</td>\n",
       "      <td>0.792670</td>\n",
       "      <td>0.00</td>\n",
       "      <td>0.0</td>\n",
       "      <td>0.0</td>\n",
       "      <td>1.0</td>\n",
       "      <td>5.0</td>\n",
       "    </tr>\n",
       "    <tr>\n",
       "      <td>id</td>\n",
       "      <td>118897.0</td>\n",
       "      <td>59874.165320</td>\n",
       "      <td>34418.603203</td>\n",
       "      <td>1.00</td>\n",
       "      <td>30187.0</td>\n",
       "      <td>59932.0</td>\n",
       "      <td>89665.0</td>\n",
       "      <td>119390.0</td>\n",
       "    </tr>\n",
       "  </tbody>\n",
       "</table>\n",
       "</div>"
      ],
      "text/plain": [
       "                                   count          mean           std      min  \\\n",
       "is_canceled                     118897.0      0.371355      0.483169     0.00   \n",
       "lead_time                       118897.0    104.311446    106.903759     0.00   \n",
       "arrival_date_year               118897.0   2016.157666      0.707454  2015.00   \n",
       "arrival_date_week_number        118897.0     27.166548     13.590028     1.00   \n",
       "arrival_date_day_of_month       118897.0     15.800971      8.780305     1.00   \n",
       "stays_in_weekend_nights         118897.0      0.928888      0.996215     0.00   \n",
       "stays_in_week_nights            118897.0      2.502141      1.900175     0.00   \n",
       "adults                          118897.0      1.858390      0.578578     0.00   \n",
       "children                        118897.0      0.104199      0.399166     0.00   \n",
       "babies                          118897.0      0.007948      0.097381     0.00   \n",
       "is_repeated_guest               118897.0      0.032011      0.176030     0.00   \n",
       "previous_cancellations          118897.0      0.087143      0.845872     0.00   \n",
       "previous_bookings_not_canceled  118897.0      0.131635      1.484678     0.00   \n",
       "booking_changes                 118897.0      0.221183      0.652787     0.00   \n",
       "days_in_waiting_list            118897.0      2.330774     17.630525     0.00   \n",
       "adr                             118897.0    102.003153     50.486065    -6.38   \n",
       "required_car_parking_spaces     118897.0      0.061877      0.244158     0.00   \n",
       "total_of_special_requests       118897.0      0.571671      0.792670     0.00   \n",
       "id                              118897.0  59874.165320  34418.603203     1.00   \n",
       "\n",
       "                                    25%      50%      75%       max  \n",
       "is_canceled                         0.0      0.0      1.0       1.0  \n",
       "lead_time                          18.0     69.0    161.0     737.0  \n",
       "arrival_date_year                2016.0   2016.0   2017.0    2017.0  \n",
       "arrival_date_week_number           16.0     28.0     38.0      53.0  \n",
       "arrival_date_day_of_month           8.0     16.0     23.0      31.0  \n",
       "stays_in_weekend_nights             0.0      1.0      2.0      16.0  \n",
       "stays_in_week_nights                1.0      2.0      3.0      41.0  \n",
       "adults                              2.0      2.0      2.0      55.0  \n",
       "children                            0.0      0.0      0.0      10.0  \n",
       "babies                              0.0      0.0      0.0      10.0  \n",
       "is_repeated_guest                   0.0      0.0      0.0       1.0  \n",
       "previous_cancellations              0.0      0.0      0.0      26.0  \n",
       "previous_bookings_not_canceled      0.0      0.0      0.0      72.0  \n",
       "booking_changes                     0.0      0.0      0.0      21.0  \n",
       "days_in_waiting_list                0.0      0.0      0.0     391.0  \n",
       "adr                                70.0     95.0    126.0    5400.0  \n",
       "required_car_parking_spaces         0.0      0.0      0.0       8.0  \n",
       "total_of_special_requests           0.0      0.0      1.0       5.0  \n",
       "id                              30187.0  59932.0  89665.0  119390.0  "
      ]
     },
     "execution_count": 22,
     "metadata": {},
     "output_type": "execute_result"
    }
   ],
   "source": [
    "df.describe().T"
   ]
  },
  {
   "cell_type": "code",
   "execution_count": 23,
   "metadata": {
    "ExecuteTime": {
     "end_time": "2019-12-18T18:42:54.305763Z",
     "start_time": "2019-12-18T18:42:54.282052Z"
    }
   },
   "outputs": [],
   "source": [
    "df = df[df.adr > 0]"
   ]
  },
  {
   "cell_type": "markdown",
   "metadata": {},
   "source": [
    "#### Outlier Detection"
   ]
  },
  {
   "cell_type": "markdown",
   "metadata": {},
   "source": [
    "##### IQR"
   ]
  },
  {
   "cell_type": "code",
   "execution_count": 24,
   "metadata": {
    "ExecuteTime": {
     "end_time": "2019-12-18T18:42:54.467517Z",
     "start_time": "2019-12-18T18:42:54.308121Z"
    }
   },
   "outputs": [
    {
     "name": "stdout",
     "output_type": "stream",
     "text": [
      "Lower point: -195.5 \t upper point: 376.5 \t lead_time\n",
      "Lower point: -3.0 \t upper point: 5.0 \t stays_in_weekend_nights\n",
      "Lower point: -2.0 \t upper point: 6.0 \t stays_in_week_nights\n",
      "Lower point: 2.0 \t upper point: 2.0 \t adults\n",
      "Lower point: 0.0 \t upper point: 0.0 \t children\n",
      "Lower point: 0.0 \t upper point: 0.0 \t babies\n",
      "Lower point: -11.5 \t upper point: 208.5 \t adr\n"
     ]
    }
   ],
   "source": [
    "cleaned = df.copy()\n",
    "\n",
    "columns = [\n",
    "    'lead_time',\n",
    "    'stays_in_weekend_nights',\n",
    "    'stays_in_week_nights',\n",
    "    'adults',\n",
    "    'children',\n",
    "    'babies',\n",
    "    'adr',\n",
    "]\n",
    "\n",
    "for col in columns:\n",
    "    q1 = df[col].quantile(0.25)\n",
    "    q3 = df[col].quantile(0.75)\n",
    "\n",
    "    iqr = q3 - q1\n",
    "    lower = q1 - 1.5 * iqr\n",
    "    upper = q3 + 1.5 * iqr\n",
    "\n",
    "    print(f'Lower point: {round(lower, 2)} \\t upper point: {round(upper, 2)} \\t {col}')\n",
    "    \n",
    "    if lower == upper:\n",
    "        continue\n",
    "    \n",
    "    cond1 = (cleaned[col] >= lower) & (cleaned[col] <= upper)\n",
    "    cond2 = cleaned[col].isnull()\n",
    "    cleaned = cleaned[cond1 | cond2]"
   ]
  },
  {
   "cell_type": "code",
   "execution_count": 25,
   "metadata": {
    "ExecuteTime": {
     "end_time": "2019-12-18T18:42:54.531370Z",
     "start_time": "2019-12-18T18:42:54.471022Z"
    }
   },
   "outputs": [
    {
     "data": {
      "text/html": [
       "<div>\n",
       "<style scoped>\n",
       "    .dataframe tbody tr th:only-of-type {\n",
       "        vertical-align: middle;\n",
       "    }\n",
       "\n",
       "    .dataframe tbody tr th {\n",
       "        vertical-align: top;\n",
       "    }\n",
       "\n",
       "    .dataframe thead th {\n",
       "        text-align: right;\n",
       "    }\n",
       "</style>\n",
       "<table border=\"1\" class=\"dataframe\">\n",
       "  <thead>\n",
       "    <tr style=\"text-align: right;\">\n",
       "      <th></th>\n",
       "      <th>count</th>\n",
       "      <th>mean</th>\n",
       "      <th>std</th>\n",
       "      <th>min</th>\n",
       "      <th>25%</th>\n",
       "      <th>50%</th>\n",
       "      <th>75%</th>\n",
       "      <th>max</th>\n",
       "    </tr>\n",
       "  </thead>\n",
       "  <tbody>\n",
       "    <tr>\n",
       "      <td>lead_time</td>\n",
       "      <td>106723.0</td>\n",
       "      <td>96.088406</td>\n",
       "      <td>92.822540</td>\n",
       "      <td>0.0</td>\n",
       "      <td>18.0</td>\n",
       "      <td>67.0</td>\n",
       "      <td>152.00</td>\n",
       "      <td>374.0</td>\n",
       "    </tr>\n",
       "    <tr>\n",
       "      <td>stays_in_weekend_nights</td>\n",
       "      <td>106723.0</td>\n",
       "      <td>0.865062</td>\n",
       "      <td>0.870129</td>\n",
       "      <td>0.0</td>\n",
       "      <td>0.0</td>\n",
       "      <td>1.0</td>\n",
       "      <td>2.00</td>\n",
       "      <td>4.0</td>\n",
       "    </tr>\n",
       "    <tr>\n",
       "      <td>stays_in_week_nights</td>\n",
       "      <td>106723.0</td>\n",
       "      <td>2.318029</td>\n",
       "      <td>1.415296</td>\n",
       "      <td>0.0</td>\n",
       "      <td>1.0</td>\n",
       "      <td>2.0</td>\n",
       "      <td>3.00</td>\n",
       "      <td>6.0</td>\n",
       "    </tr>\n",
       "    <tr>\n",
       "      <td>adults</td>\n",
       "      <td>106723.0</td>\n",
       "      <td>1.848083</td>\n",
       "      <td>0.482426</td>\n",
       "      <td>0.0</td>\n",
       "      <td>2.0</td>\n",
       "      <td>2.0</td>\n",
       "      <td>2.00</td>\n",
       "      <td>4.0</td>\n",
       "    </tr>\n",
       "    <tr>\n",
       "      <td>children</td>\n",
       "      <td>106723.0</td>\n",
       "      <td>0.083815</td>\n",
       "      <td>0.350265</td>\n",
       "      <td>0.0</td>\n",
       "      <td>0.0</td>\n",
       "      <td>0.0</td>\n",
       "      <td>0.00</td>\n",
       "      <td>3.0</td>\n",
       "    </tr>\n",
       "    <tr>\n",
       "      <td>babies</td>\n",
       "      <td>106723.0</td>\n",
       "      <td>0.007534</td>\n",
       "      <td>0.095824</td>\n",
       "      <td>0.0</td>\n",
       "      <td>0.0</td>\n",
       "      <td>0.0</td>\n",
       "      <td>0.00</td>\n",
       "      <td>10.0</td>\n",
       "    </tr>\n",
       "    <tr>\n",
       "      <td>adr</td>\n",
       "      <td>106723.0</td>\n",
       "      <td>99.155196</td>\n",
       "      <td>38.421950</td>\n",
       "      <td>1.0</td>\n",
       "      <td>71.1</td>\n",
       "      <td>94.8</td>\n",
       "      <td>123.14</td>\n",
       "      <td>208.5</td>\n",
       "    </tr>\n",
       "  </tbody>\n",
       "</table>\n",
       "</div>"
      ],
      "text/plain": [
       "                            count       mean        std  min   25%   50%  \\\n",
       "lead_time                106723.0  96.088406  92.822540  0.0  18.0  67.0   \n",
       "stays_in_weekend_nights  106723.0   0.865062   0.870129  0.0   0.0   1.0   \n",
       "stays_in_week_nights     106723.0   2.318029   1.415296  0.0   1.0   2.0   \n",
       "adults                   106723.0   1.848083   0.482426  0.0   2.0   2.0   \n",
       "children                 106723.0   0.083815   0.350265  0.0   0.0   0.0   \n",
       "babies                   106723.0   0.007534   0.095824  0.0   0.0   0.0   \n",
       "adr                      106723.0  99.155196  38.421950  1.0  71.1  94.8   \n",
       "\n",
       "                            75%    max  \n",
       "lead_time                152.00  374.0  \n",
       "stays_in_weekend_nights    2.00    4.0  \n",
       "stays_in_week_nights       3.00    6.0  \n",
       "adults                     2.00    4.0  \n",
       "children                   0.00    3.0  \n",
       "babies                     0.00   10.0  \n",
       "adr                      123.14  208.5  "
      ]
     },
     "execution_count": 25,
     "metadata": {},
     "output_type": "execute_result"
    }
   ],
   "source": [
    "cleaned[columns].describe().T"
   ]
  },
  {
   "cell_type": "markdown",
   "metadata": {},
   "source": [
    "##### Multivariate Anomaly Detection\n",
    "- Some observations may not be outlier when alone\n",
    "- However, when combined with another variable, outlier values may occur \n",
    "- For example, with the price - nights \n",
    "- 70 euro is not a normal price for 7 nights"
   ]
  },
  {
   "cell_type": "code",
   "execution_count": 26,
   "metadata": {
    "ExecuteTime": {
     "end_time": "2019-12-18T18:42:54.546888Z",
     "start_time": "2019-12-18T18:42:54.541441Z"
    }
   },
   "outputs": [],
   "source": [
    "# thats not important, just for visualization\n",
    "def display_side_by_side(*args):\n",
    "    html_str = ''\n",
    "    \n",
    "    for df in args:\n",
    "        html_str += df.to_html()\n",
    "        \n",
    "    display_html(html_str.replace('table', 'table style=\"display:inline\"'), raw=True)"
   ]
  },
  {
   "cell_type": "code",
   "execution_count": 27,
   "metadata": {
    "ExecuteTime": {
     "end_time": "2019-12-18T18:42:54.574183Z",
     "start_time": "2019-12-18T18:42:54.550271Z"
    }
   },
   "outputs": [],
   "source": [
    "cleaned.loc[:, 'total_nights'] = cleaned['stays_in_week_nights'] + cleaned['stays_in_weekend_nights']\n",
    "cleaned.loc[:, 'price'] = cleaned['adr'] * cleaned['total_nights']"
   ]
  },
  {
   "cell_type": "code",
   "execution_count": 28,
   "metadata": {
    "ExecuteTime": {
     "end_time": "2019-12-18T18:42:54.586105Z",
     "start_time": "2019-12-18T18:42:54.575812Z"
    }
   },
   "outputs": [],
   "source": [
    "cols = ['total_nights', 'price']"
   ]
  },
  {
   "cell_type": "code",
   "execution_count": 29,
   "metadata": {
    "ExecuteTime": {
     "end_time": "2019-12-18T18:42:54.603767Z",
     "start_time": "2019-12-18T18:42:54.596313Z"
    }
   },
   "outputs": [],
   "source": [
    "# convert to numpy array, because local outlier method want this\n",
    "X = np.array(cleaned[cols])"
   ]
  },
  {
   "cell_type": "markdown",
   "metadata": {},
   "source": [
    "- **Elliptic Envelope**"
   ]
  },
  {
   "cell_type": "code",
   "execution_count": 30,
   "metadata": {
    "ExecuteTime": {
     "end_time": "2019-12-18T18:42:54.618278Z",
     "start_time": "2019-12-18T18:42:54.607170Z"
    }
   },
   "outputs": [],
   "source": [
    "# create model\n",
    "ee = EllipticEnvelope(contamination=.01, random_state=0)"
   ]
  },
  {
   "cell_type": "code",
   "execution_count": 31,
   "metadata": {
    "ExecuteTime": {
     "end_time": "2019-12-18T18:43:10.149452Z",
     "start_time": "2019-12-18T18:42:54.622526Z"
    }
   },
   "outputs": [],
   "source": [
    "# predictions\n",
    "y_pred_ee = ee.fit_predict(X)"
   ]
  },
  {
   "cell_type": "code",
   "execution_count": 32,
   "metadata": {
    "ExecuteTime": {
     "end_time": "2019-12-18T18:43:10.159755Z",
     "start_time": "2019-12-18T18:43:10.151278Z"
    }
   },
   "outputs": [],
   "source": [
    "# predictions (-1: outlier, 1: normal)\n",
    "anomalies = X[y_pred_ee == -1]"
   ]
  },
  {
   "cell_type": "code",
   "execution_count": 33,
   "metadata": {
    "ExecuteTime": {
     "end_time": "2019-12-18T18:43:11.077555Z",
     "start_time": "2019-12-18T18:43:10.161319Z"
    }
   },
   "outputs": [
    {
     "data": {
      "image/png": "[encoded data removed]",
      "text/plain": [
       "<Figure size 1080x576 with 1 Axes>"
      ]
     },
     "metadata": {
      "needs_background": "light"
     },
     "output_type": "display_data"
    }
   ],
   "source": [
    "# plot data and outliers\n",
    "plt.figure(figsize=(15, 8))\n",
    "plt.scatter(X[:, 0], X[:, 1], c='white', s=20, edgecolor='k')\n",
    "plt.scatter(anomalies[:, 0], anomalies[:, 1], c='red');"
   ]
  },
  {
   "cell_type": "code",
   "execution_count": 34,
   "metadata": {
    "ExecuteTime": {
     "end_time": "2019-12-18T18:43:11.092936Z",
     "start_time": "2019-12-18T18:43:11.080124Z"
    }
   },
   "outputs": [],
   "source": [
    "# statistics of outlier observations\n",
    "outliers = cleaned[y_pred_ee == -1][cols] \\\n",
    "    .groupby(cols[0]) \\\n",
    "    .agg({cols[1]: ['min', 'max', 'mean', 'std', 'median']})"
   ]
  },
  {
   "cell_type": "code",
   "execution_count": 35,
   "metadata": {
    "ExecuteTime": {
     "end_time": "2019-12-18T18:43:11.113382Z",
     "start_time": "2019-12-18T18:43:11.094817Z"
    }
   },
   "outputs": [],
   "source": [
    "# statistics of all observations\n",
    "all_data = cleaned[cols] \\\n",
    "    .groupby(cols[0]) \\\n",
    "    .agg({cols[1]: ['min', 'max', 'mean', 'std', 'median']})"
   ]
  },
  {
   "cell_type": "code",
   "execution_count": 36,
   "metadata": {
    "ExecuteTime": {
     "end_time": "2019-12-18T18:43:11.155410Z",
     "start_time": "2019-12-18T18:43:11.114981Z"
    }
   },
   "outputs": [],
   "source": [
    "# statistics of cleaned data\n",
    "clean_data = cleaned[y_pred_ee != -1] \\\n",
    "    .groupby(cols[0]) \\\n",
    "    .agg({cols[1]: ['min', 'max', 'mean', 'std', 'median']})"
   ]
  },
  {
   "cell_type": "code",
   "execution_count": 37,
   "metadata": {
    "ExecuteTime": {
     "end_time": "2019-12-18T18:43:11.173485Z",
     "start_time": "2019-12-18T18:43:11.157390Z"
    }
   },
   "outputs": [
    {
     "data": {
      "text/html": [
       "<table style=\"display:inline\" border=\"1\" class=\"dataframe\">\n",
       "  <thead>\n",
       "    <tr>\n",
       "      <th></th>\n",
       "      <th colspan=\"5\" halign=\"left\">price</th>\n",
       "    </tr>\n",
       "    <tr>\n",
       "      <th></th>\n",
       "      <th>min</th>\n",
       "      <th>max</th>\n",
       "      <th>mean</th>\n",
       "      <th>std</th>\n",
       "      <th>median</th>\n",
       "    </tr>\n",
       "    <tr>\n",
       "      <th>total_nights</th>\n",
       "      <th></th>\n",
       "      <th></th>\n",
       "      <th></th>\n",
       "      <th></th>\n",
       "      <th></th>\n",
       "    </tr>\n",
       "  </thead>\n",
       "  <tbody>\n",
       "    <tr>\n",
       "      <th>1</th>\n",
       "      <td>1.00</td>\n",
       "      <td>208.00</td>\n",
       "      <td>93.551632</td>\n",
       "      <td>40.041280</td>\n",
       "      <td>89.000</td>\n",
       "    </tr>\n",
       "    <tr>\n",
       "      <th>2</th>\n",
       "      <td>2.00</td>\n",
       "      <td>417.00</td>\n",
       "      <td>193.363506</td>\n",
       "      <td>71.809371</td>\n",
       "      <td>187.200</td>\n",
       "    </tr>\n",
       "    <tr>\n",
       "      <th>3</th>\n",
       "      <td>3.00</td>\n",
       "      <td>624.99</td>\n",
       "      <td>307.502708</td>\n",
       "      <td>108.518262</td>\n",
       "      <td>291.600</td>\n",
       "    </tr>\n",
       "    <tr>\n",
       "      <th>4</th>\n",
       "      <td>4.00</td>\n",
       "      <td>834.00</td>\n",
       "      <td>402.891749</td>\n",
       "      <td>149.940802</td>\n",
       "      <td>384.200</td>\n",
       "    </tr>\n",
       "    <tr>\n",
       "      <th>5</th>\n",
       "      <td>8.00</td>\n",
       "      <td>1040.00</td>\n",
       "      <td>528.015487</td>\n",
       "      <td>196.280852</td>\n",
       "      <td>501.500</td>\n",
       "    </tr>\n",
       "    <tr>\n",
       "      <th>6</th>\n",
       "      <td>36.00</td>\n",
       "      <td>1249.02</td>\n",
       "      <td>655.874750</td>\n",
       "      <td>249.239448</td>\n",
       "      <td>635.550</td>\n",
       "    </tr>\n",
       "    <tr>\n",
       "      <th>7</th>\n",
       "      <td>9.03</td>\n",
       "      <td>1459.36</td>\n",
       "      <td>666.379208</td>\n",
       "      <td>305.362646</td>\n",
       "      <td>598.500</td>\n",
       "    </tr>\n",
       "    <tr>\n",
       "      <th>8</th>\n",
       "      <td>16.00</td>\n",
       "      <td>1664.16</td>\n",
       "      <td>832.900760</td>\n",
       "      <td>362.480690</td>\n",
       "      <td>795.600</td>\n",
       "    </tr>\n",
       "    <tr>\n",
       "      <th>9</th>\n",
       "      <td>14.04</td>\n",
       "      <td>1867.50</td>\n",
       "      <td>1002.631601</td>\n",
       "      <td>409.619361</td>\n",
       "      <td>909.765</td>\n",
       "    </tr>\n",
       "    <tr>\n",
       "      <th>10</th>\n",
       "      <td>18.00</td>\n",
       "      <td>2082.00</td>\n",
       "      <td>993.092523</td>\n",
       "      <td>418.914945</td>\n",
       "      <td>921.000</td>\n",
       "    </tr>\n",
       "  </tbody>\n",
       "</table style=\"display:inline\"><table style=\"display:inline\" border=\"1\" class=\"dataframe\">\n",
       "  <thead>\n",
       "    <tr>\n",
       "      <th></th>\n",
       "      <th colspan=\"5\" halign=\"left\">price</th>\n",
       "    </tr>\n",
       "    <tr>\n",
       "      <th></th>\n",
       "      <th>min</th>\n",
       "      <th>max</th>\n",
       "      <th>mean</th>\n",
       "      <th>std</th>\n",
       "      <th>median</th>\n",
       "    </tr>\n",
       "    <tr>\n",
       "      <th>total_nights</th>\n",
       "      <th></th>\n",
       "      <th></th>\n",
       "      <th></th>\n",
       "      <th></th>\n",
       "      <th></th>\n",
       "    </tr>\n",
       "  </thead>\n",
       "  <tbody>\n",
       "    <tr>\n",
       "      <th>6</th>\n",
       "      <td>1152.00</td>\n",
       "      <td>1249.02</td>\n",
       "      <td>1196.127231</td>\n",
       "      <td>28.867197</td>\n",
       "      <td>1193.04</td>\n",
       "    </tr>\n",
       "    <tr>\n",
       "      <th>7</th>\n",
       "      <td>9.03</td>\n",
       "      <td>1459.36</td>\n",
       "      <td>1314.514600</td>\n",
       "      <td>142.000417</td>\n",
       "      <td>1320.48</td>\n",
       "    </tr>\n",
       "    <tr>\n",
       "      <th>8</th>\n",
       "      <td>16.00</td>\n",
       "      <td>1664.16</td>\n",
       "      <td>1400.684800</td>\n",
       "      <td>299.490422</td>\n",
       "      <td>1450.00</td>\n",
       "    </tr>\n",
       "    <tr>\n",
       "      <th>9</th>\n",
       "      <td>14.04</td>\n",
       "      <td>1867.50</td>\n",
       "      <td>1413.963679</td>\n",
       "      <td>445.921108</td>\n",
       "      <td>1480.50</td>\n",
       "    </tr>\n",
       "    <tr>\n",
       "      <th>10</th>\n",
       "      <td>18.00</td>\n",
       "      <td>2082.00</td>\n",
       "      <td>1267.973000</td>\n",
       "      <td>584.023093</td>\n",
       "      <td>1474.75</td>\n",
       "    </tr>\n",
       "  </tbody>\n",
       "</table style=\"display:inline\"><table style=\"display:inline\" border=\"1\" class=\"dataframe\">\n",
       "  <thead>\n",
       "    <tr>\n",
       "      <th></th>\n",
       "      <th colspan=\"5\" halign=\"left\">price</th>\n",
       "    </tr>\n",
       "    <tr>\n",
       "      <th></th>\n",
       "      <th>min</th>\n",
       "      <th>max</th>\n",
       "      <th>mean</th>\n",
       "      <th>std</th>\n",
       "      <th>median</th>\n",
       "    </tr>\n",
       "    <tr>\n",
       "      <th>total_nights</th>\n",
       "      <th></th>\n",
       "      <th></th>\n",
       "      <th></th>\n",
       "      <th></th>\n",
       "      <th></th>\n",
       "    </tr>\n",
       "  </thead>\n",
       "  <tbody>\n",
       "    <tr>\n",
       "      <th>1</th>\n",
       "      <td>1.0</td>\n",
       "      <td>208.00</td>\n",
       "      <td>93.551632</td>\n",
       "      <td>40.041280</td>\n",
       "      <td>89.00</td>\n",
       "    </tr>\n",
       "    <tr>\n",
       "      <th>2</th>\n",
       "      <td>2.0</td>\n",
       "      <td>417.00</td>\n",
       "      <td>193.363506</td>\n",
       "      <td>71.809371</td>\n",
       "      <td>187.20</td>\n",
       "    </tr>\n",
       "    <tr>\n",
       "      <th>3</th>\n",
       "      <td>3.0</td>\n",
       "      <td>624.99</td>\n",
       "      <td>307.502708</td>\n",
       "      <td>108.518262</td>\n",
       "      <td>291.60</td>\n",
       "    </tr>\n",
       "    <tr>\n",
       "      <th>4</th>\n",
       "      <td>4.0</td>\n",
       "      <td>834.00</td>\n",
       "      <td>402.891749</td>\n",
       "      <td>149.940802</td>\n",
       "      <td>384.20</td>\n",
       "    </tr>\n",
       "    <tr>\n",
       "      <th>5</th>\n",
       "      <td>8.0</td>\n",
       "      <td>1040.00</td>\n",
       "      <td>528.015487</td>\n",
       "      <td>196.280852</td>\n",
       "      <td>501.50</td>\n",
       "    </tr>\n",
       "    <tr>\n",
       "      <th>6</th>\n",
       "      <td>36.0</td>\n",
       "      <td>1150.02</td>\n",
       "      <td>634.897204</td>\n",
       "      <td>229.617591</td>\n",
       "      <td>621.00</td>\n",
       "    </tr>\n",
       "    <tr>\n",
       "      <th>7</th>\n",
       "      <td>56.0</td>\n",
       "      <td>1210.02</td>\n",
       "      <td>618.868283</td>\n",
       "      <td>256.030785</td>\n",
       "      <td>573.02</td>\n",
       "    </tr>\n",
       "    <tr>\n",
       "      <th>8</th>\n",
       "      <td>208.8</td>\n",
       "      <td>1260.88</td>\n",
       "      <td>738.479911</td>\n",
       "      <td>275.387665</td>\n",
       "      <td>720.00</td>\n",
       "    </tr>\n",
       "    <tr>\n",
       "      <th>9</th>\n",
       "      <td>324.0</td>\n",
       "      <td>1296.00</td>\n",
       "      <td>828.226800</td>\n",
       "      <td>229.781849</td>\n",
       "      <td>801.90</td>\n",
       "    </tr>\n",
       "    <tr>\n",
       "      <th>10</th>\n",
       "      <td>480.0</td>\n",
       "      <td>1322.40</td>\n",
       "      <td>868.712217</td>\n",
       "      <td>227.781794</td>\n",
       "      <td>840.00</td>\n",
       "    </tr>\n",
       "  </tbody>\n",
       "</table style=\"display:inline\">"
      ]
     },
     "metadata": {},
     "output_type": "display_data"
    }
   ],
   "source": [
    "display_side_by_side(all_data, outliers, clean_data)"
   ]
  },
  {
   "cell_type": "markdown",
   "metadata": {},
   "source": [
    "- **Local Outlier Factor**"
   ]
  },
  {
   "cell_type": "code",
   "execution_count": 38,
   "metadata": {
    "ExecuteTime": {
     "end_time": "2019-12-18T18:43:11.180966Z",
     "start_time": "2019-12-18T18:43:11.175274Z"
    }
   },
   "outputs": [],
   "source": [
    "# create model\n",
    "lof = LocalOutlierFactor(contamination=.001)"
   ]
  },
  {
   "cell_type": "code",
   "execution_count": 39,
   "metadata": {
    "ExecuteTime": {
     "end_time": "2019-12-18T18:43:11.870882Z",
     "start_time": "2019-12-18T18:43:11.183120Z"
    }
   },
   "outputs": [],
   "source": [
    "# predictions\n",
    "y_pred_lof = lof.fit_predict(X)"
   ]
  },
  {
   "cell_type": "markdown",
   "metadata": {},
   "source": [
    "- Observations predicted as anomalies have values of -1 in predictions \n",
    "- These observations have LOF scores less than the threshold \n",
    "- Sklearn outputs negative LOF values\n",
    "<br>&nbsp;\n",
    "- The below code plots LOF scores as red circles around points\n",
    "- The larger the LOF, the greater the radius of the circle, and the more anomalous the observation\n",
    "- And plots outliers in second graph"
   ]
  },
  {
   "cell_type": "code",
   "execution_count": 40,
   "metadata": {
    "ExecuteTime": {
     "end_time": "2019-12-18T18:43:11.879970Z",
     "start_time": "2019-12-18T18:43:11.874385Z"
    }
   },
   "outputs": [],
   "source": [
    "# predictions (-1: outlier, 1: normal)\n",
    "anomalies = X[y_pred_lof == -1]"
   ]
  },
  {
   "cell_type": "code",
   "execution_count": 41,
   "metadata": {
    "ExecuteTime": {
     "end_time": "2019-12-18T18:43:11.891319Z",
     "start_time": "2019-12-18T18:43:11.883044Z"
    }
   },
   "outputs": [],
   "source": [
    "# radius for red circles\n",
    "X_score = lof.negative_outlier_factor_\n",
    "radius = (X_score.max() - X_score) / (X_score.max() - X_score.min())"
   ]
  },
  {
   "cell_type": "code",
   "execution_count": 42,
   "metadata": {
    "ExecuteTime": {
     "end_time": "2019-12-18T18:43:16.937707Z",
     "start_time": "2019-12-18T18:43:11.893103Z"
    }
   },
   "outputs": [
    {
     "data": {
      "image/png": "[encoded data removed]",
      "text/plain": [
       "<Figure size 1080x576 with 2 Axes>"
      ]
     },
     "metadata": {
      "needs_background": "light"
     },
     "output_type": "display_data"
    }
   ],
   "source": [
    "# plot circles and outlier observations\n",
    "plt.figure(figsize=(15, 8))\n",
    "\n",
    "plt.subplot(2, 2, 1)\n",
    "plt.scatter(X[:, 0], X[:, 1], color='k', s=3);\n",
    "plt.scatter(X[:, 0], X[:, 1], s=1000 * radius, edgecolors='r', facecolors='none')\n",
    "\n",
    "plt.subplot(2, 2, 2)\n",
    "plt.scatter(X[:, 0], X[:, 1], c='white', s=20, edgecolor='k')\n",
    "plt.scatter(anomalies[:, 0], anomalies[:,1], c='red');"
   ]
  },
  {
   "cell_type": "code",
   "execution_count": 43,
   "metadata": {
    "ExecuteTime": {
     "end_time": "2019-12-18T18:43:16.967195Z",
     "start_time": "2019-12-18T18:43:16.942660Z"
    }
   },
   "outputs": [],
   "source": [
    "# statistics of outlier observations\n",
    "outliers = cleaned[y_pred_lof == -1][cols] \\\n",
    "    .groupby(cols[0]) \\\n",
    "    .agg({cols[1]: ['min', 'max', 'mean', 'std', 'median']})"
   ]
  },
  {
   "cell_type": "code",
   "execution_count": 44,
   "metadata": {
    "ExecuteTime": {
     "end_time": "2019-12-18T18:43:17.003710Z",
     "start_time": "2019-12-18T18:43:16.970171Z"
    }
   },
   "outputs": [],
   "source": [
    "# statistics of all observations\n",
    "all_data = cleaned[cols] \\\n",
    "    .groupby(cols[0]) \\\n",
    "    .agg({cols[1]: ['min', 'max', 'mean', 'std', 'median']})"
   ]
  },
  {
   "cell_type": "code",
   "execution_count": 45,
   "metadata": {
    "ExecuteTime": {
     "end_time": "2019-12-18T18:43:17.109713Z",
     "start_time": "2019-12-18T18:43:17.016186Z"
    }
   },
   "outputs": [],
   "source": [
    "# statistics of cleaned data\n",
    "clean_data = cleaned[y_pred_lof != -1] \\\n",
    "    .groupby(cols[0]) \\\n",
    "    .agg({cols[1]: ['min', 'max', 'mean', 'std', 'median']})"
   ]
  },
  {
   "cell_type": "code",
   "execution_count": 46,
   "metadata": {
    "ExecuteTime": {
     "end_time": "2019-12-18T18:43:17.132118Z",
     "start_time": "2019-12-18T18:43:17.112467Z"
    }
   },
   "outputs": [
    {
     "data": {
      "text/html": [
       "<table style=\"display:inline\" border=\"1\" class=\"dataframe\">\n",
       "  <thead>\n",
       "    <tr>\n",
       "      <th></th>\n",
       "      <th colspan=\"5\" halign=\"left\">price</th>\n",
       "    </tr>\n",
       "    <tr>\n",
       "      <th></th>\n",
       "      <th>min</th>\n",
       "      <th>max</th>\n",
       "      <th>mean</th>\n",
       "      <th>std</th>\n",
       "      <th>median</th>\n",
       "    </tr>\n",
       "    <tr>\n",
       "      <th>total_nights</th>\n",
       "      <th></th>\n",
       "      <th></th>\n",
       "      <th></th>\n",
       "      <th></th>\n",
       "      <th></th>\n",
       "    </tr>\n",
       "  </thead>\n",
       "  <tbody>\n",
       "    <tr>\n",
       "      <th>1</th>\n",
       "      <td>1.00</td>\n",
       "      <td>208.00</td>\n",
       "      <td>93.551632</td>\n",
       "      <td>40.041280</td>\n",
       "      <td>89.000</td>\n",
       "    </tr>\n",
       "    <tr>\n",
       "      <th>2</th>\n",
       "      <td>2.00</td>\n",
       "      <td>417.00</td>\n",
       "      <td>193.363506</td>\n",
       "      <td>71.809371</td>\n",
       "      <td>187.200</td>\n",
       "    </tr>\n",
       "    <tr>\n",
       "      <th>3</th>\n",
       "      <td>3.00</td>\n",
       "      <td>624.99</td>\n",
       "      <td>307.502708</td>\n",
       "      <td>108.518262</td>\n",
       "      <td>291.600</td>\n",
       "    </tr>\n",
       "    <tr>\n",
       "      <th>4</th>\n",
       "      <td>4.00</td>\n",
       "      <td>834.00</td>\n",
       "      <td>402.891749</td>\n",
       "      <td>149.940802</td>\n",
       "      <td>384.200</td>\n",
       "    </tr>\n",
       "    <tr>\n",
       "      <th>5</th>\n",
       "      <td>8.00</td>\n",
       "      <td>1040.00</td>\n",
       "      <td>528.015487</td>\n",
       "      <td>196.280852</td>\n",
       "      <td>501.500</td>\n",
       "    </tr>\n",
       "    <tr>\n",
       "      <th>6</th>\n",
       "      <td>36.00</td>\n",
       "      <td>1249.02</td>\n",
       "      <td>655.874750</td>\n",
       "      <td>249.239448</td>\n",
       "      <td>635.550</td>\n",
       "    </tr>\n",
       "    <tr>\n",
       "      <th>7</th>\n",
       "      <td>9.03</td>\n",
       "      <td>1459.36</td>\n",
       "      <td>666.379208</td>\n",
       "      <td>305.362646</td>\n",
       "      <td>598.500</td>\n",
       "    </tr>\n",
       "    <tr>\n",
       "      <th>8</th>\n",
       "      <td>16.00</td>\n",
       "      <td>1664.16</td>\n",
       "      <td>832.900760</td>\n",
       "      <td>362.480690</td>\n",
       "      <td>795.600</td>\n",
       "    </tr>\n",
       "    <tr>\n",
       "      <th>9</th>\n",
       "      <td>14.04</td>\n",
       "      <td>1867.50</td>\n",
       "      <td>1002.631601</td>\n",
       "      <td>409.619361</td>\n",
       "      <td>909.765</td>\n",
       "    </tr>\n",
       "    <tr>\n",
       "      <th>10</th>\n",
       "      <td>18.00</td>\n",
       "      <td>2082.00</td>\n",
       "      <td>993.092523</td>\n",
       "      <td>418.914945</td>\n",
       "      <td>921.000</td>\n",
       "    </tr>\n",
       "  </tbody>\n",
       "</table style=\"display:inline\"><table style=\"display:inline\" border=\"1\" class=\"dataframe\">\n",
       "  <thead>\n",
       "    <tr>\n",
       "      <th></th>\n",
       "      <th colspan=\"5\" halign=\"left\">price</th>\n",
       "    </tr>\n",
       "    <tr>\n",
       "      <th></th>\n",
       "      <th>min</th>\n",
       "      <th>max</th>\n",
       "      <th>mean</th>\n",
       "      <th>std</th>\n",
       "      <th>median</th>\n",
       "    </tr>\n",
       "    <tr>\n",
       "      <th>total_nights</th>\n",
       "      <th></th>\n",
       "      <th></th>\n",
       "      <th></th>\n",
       "      <th></th>\n",
       "      <th></th>\n",
       "    </tr>\n",
       "  </thead>\n",
       "  <tbody>\n",
       "    <tr>\n",
       "      <th>1</th>\n",
       "      <td>9.00</td>\n",
       "      <td>24.00</td>\n",
       "      <td>14.160000</td>\n",
       "      <td>5.833352</td>\n",
       "      <td>13.000</td>\n",
       "    </tr>\n",
       "    <tr>\n",
       "      <th>2</th>\n",
       "      <td>28.00</td>\n",
       "      <td>48.00</td>\n",
       "      <td>35.200000</td>\n",
       "      <td>9.230385</td>\n",
       "      <td>30.000</td>\n",
       "    </tr>\n",
       "    <tr>\n",
       "      <th>3</th>\n",
       "      <td>6.00</td>\n",
       "      <td>72.00</td>\n",
       "      <td>36.950000</td>\n",
       "      <td>22.179290</td>\n",
       "      <td>39.000</td>\n",
       "    </tr>\n",
       "    <tr>\n",
       "      <th>4</th>\n",
       "      <td>27.60</td>\n",
       "      <td>741.20</td>\n",
       "      <td>120.320000</td>\n",
       "      <td>220.412526</td>\n",
       "      <td>36.000</td>\n",
       "    </tr>\n",
       "    <tr>\n",
       "      <th>5</th>\n",
       "      <td>30.00</td>\n",
       "      <td>910.00</td>\n",
       "      <td>247.230000</td>\n",
       "      <td>346.971748</td>\n",
       "      <td>60.000</td>\n",
       "    </tr>\n",
       "    <tr>\n",
       "      <th>6</th>\n",
       "      <td>54.00</td>\n",
       "      <td>1121.40</td>\n",
       "      <td>575.858182</td>\n",
       "      <td>505.806513</td>\n",
       "      <td>236.640</td>\n",
       "    </tr>\n",
       "    <tr>\n",
       "      <th>7</th>\n",
       "      <td>54.60</td>\n",
       "      <td>1121.40</td>\n",
       "      <td>384.291250</td>\n",
       "      <td>442.566490</td>\n",
       "      <td>188.755</td>\n",
       "    </tr>\n",
       "    <tr>\n",
       "      <th>8</th>\n",
       "      <td>84.00</td>\n",
       "      <td>945.04</td>\n",
       "      <td>548.086667</td>\n",
       "      <td>283.577293</td>\n",
       "      <td>535.880</td>\n",
       "    </tr>\n",
       "    <tr>\n",
       "      <th>9</th>\n",
       "      <td>286.92</td>\n",
       "      <td>945.90</td>\n",
       "      <td>600.525000</td>\n",
       "      <td>230.479476</td>\n",
       "      <td>630.000</td>\n",
       "    </tr>\n",
       "    <tr>\n",
       "      <th>10</th>\n",
       "      <td>288.00</td>\n",
       "      <td>1119.60</td>\n",
       "      <td>590.509091</td>\n",
       "      <td>235.271594</td>\n",
       "      <td>567.000</td>\n",
       "    </tr>\n",
       "  </tbody>\n",
       "</table style=\"display:inline\"><table style=\"display:inline\" border=\"1\" class=\"dataframe\">\n",
       "  <thead>\n",
       "    <tr>\n",
       "      <th></th>\n",
       "      <th colspan=\"5\" halign=\"left\">price</th>\n",
       "    </tr>\n",
       "    <tr>\n",
       "      <th></th>\n",
       "      <th>min</th>\n",
       "      <th>max</th>\n",
       "      <th>mean</th>\n",
       "      <th>std</th>\n",
       "      <th>median</th>\n",
       "    </tr>\n",
       "    <tr>\n",
       "      <th>total_nights</th>\n",
       "      <th></th>\n",
       "      <th></th>\n",
       "      <th></th>\n",
       "      <th></th>\n",
       "      <th></th>\n",
       "    </tr>\n",
       "  </thead>\n",
       "  <tbody>\n",
       "    <tr>\n",
       "      <th>1</th>\n",
       "      <td>1.00</td>\n",
       "      <td>208.00</td>\n",
       "      <td>93.572076</td>\n",
       "      <td>40.026072</td>\n",
       "      <td>89.00</td>\n",
       "    </tr>\n",
       "    <tr>\n",
       "      <th>2</th>\n",
       "      <td>2.00</td>\n",
       "      <td>417.00</td>\n",
       "      <td>193.395204</td>\n",
       "      <td>71.781551</td>\n",
       "      <td>187.20</td>\n",
       "    </tr>\n",
       "    <tr>\n",
       "      <th>3</th>\n",
       "      <td>3.00</td>\n",
       "      <td>624.99</td>\n",
       "      <td>307.631018</td>\n",
       "      <td>108.382895</td>\n",
       "      <td>291.60</td>\n",
       "    </tr>\n",
       "    <tr>\n",
       "      <th>4</th>\n",
       "      <td>4.00</td>\n",
       "      <td>834.00</td>\n",
       "      <td>403.063160</td>\n",
       "      <td>149.736067</td>\n",
       "      <td>384.52</td>\n",
       "    </tr>\n",
       "    <tr>\n",
       "      <th>5</th>\n",
       "      <td>8.00</td>\n",
       "      <td>1040.00</td>\n",
       "      <td>528.595463</td>\n",
       "      <td>195.474883</td>\n",
       "      <td>501.50</td>\n",
       "    </tr>\n",
       "    <tr>\n",
       "      <th>6</th>\n",
       "      <td>36.00</td>\n",
       "      <td>1249.02</td>\n",
       "      <td>656.128624</td>\n",
       "      <td>248.110712</td>\n",
       "      <td>635.70</td>\n",
       "    </tr>\n",
       "    <tr>\n",
       "      <th>7</th>\n",
       "      <td>9.03</td>\n",
       "      <td>1459.36</td>\n",
       "      <td>666.940786</td>\n",
       "      <td>304.807564</td>\n",
       "      <td>598.50</td>\n",
       "    </tr>\n",
       "    <tr>\n",
       "      <th>8</th>\n",
       "      <td>16.00</td>\n",
       "      <td>1664.16</td>\n",
       "      <td>836.187077</td>\n",
       "      <td>362.092116</td>\n",
       "      <td>797.24</td>\n",
       "    </tr>\n",
       "    <tr>\n",
       "      <th>9</th>\n",
       "      <td>14.04</td>\n",
       "      <td>1867.50</td>\n",
       "      <td>1014.253179</td>\n",
       "      <td>407.974964</td>\n",
       "      <td>933.21</td>\n",
       "    </tr>\n",
       "    <tr>\n",
       "      <th>10</th>\n",
       "      <td>18.00</td>\n",
       "      <td>2082.00</td>\n",
       "      <td>1007.377742</td>\n",
       "      <td>417.098617</td>\n",
       "      <td>939.20</td>\n",
       "    </tr>\n",
       "  </tbody>\n",
       "</table style=\"display:inline\">"
      ]
     },
     "metadata": {},
     "output_type": "display_data"
    }
   ],
   "source": [
    "display_side_by_side(all_data, outliers, clean_data)"
   ]
  },
  {
   "cell_type": "code",
   "execution_count": 47,
   "metadata": {
    "ExecuteTime": {
     "end_time": "2019-12-18T18:43:17.183938Z",
     "start_time": "2019-12-18T18:43:17.139067Z"
    }
   },
   "outputs": [],
   "source": [
    "df_cleaned = cleaned[y_pred_ee != -1].copy()"
   ]
  },
  {
   "cell_type": "code",
   "execution_count": 48,
   "metadata": {
    "ExecuteTime": {
     "end_time": "2019-12-18T18:43:17.317380Z",
     "start_time": "2019-12-18T18:43:17.187891Z"
    }
   },
   "outputs": [],
   "source": [
    "h1_cleaned = df_cleaned[df_cleaned.id.isin(h1.id.tolist())]\n",
    "h2_cleaned = df_cleaned[df_cleaned.id.isin(h2.id.tolist())]\n",
    "\n",
    "h1_cleaned = h1_cleaned.drop('id', axis=1)\n",
    "h2_cleaned = h2_cleaned.drop('id', axis=1)"
   ]
  },
  {
   "cell_type": "code",
   "execution_count": 49,
   "metadata": {
    "ExecuteTime": {
     "end_time": "2019-12-18T18:43:20.168332Z",
     "start_time": "2019-12-18T18:43:17.322163Z"
    }
   },
   "outputs": [],
   "source": [
    "h1_cleaned.to_csv('./data/H1_cleaned.csv', index=False)\n",
    "h2_cleaned.to_csv('./data/H2_cleaned.csv', index=False)"
   ]
  }
 ],
 "metadata": {
  "kernelspec": {
   "display_name": "Python 3",
   "language": "python",
   "name": "python3"
  },
  "language_info": {
   "codemirror_mode": {
    "name": "ipython",
    "version": 3
   },
   "file_extension": ".py",
   "mimetype": "text/x-python",
   "name": "python",
   "nbconvert_exporter": "python",
   "pygments_lexer": "ipython3",
   "version": "3.6.5"
  },
  "toc": {
   "base_numbering": 1,
   "nav_menu": {},
   "number_sections": true,
   "sideBar": true,
   "skip_h1_title": false,
   "title_cell": "Table of Contents",
   "title_sidebar": "Contents",
   "toc_cell": false,
   "toc_position": {},
   "toc_section_display": true,
   "toc_window_display": false
  }
 },
 "nbformat": 4,
 "nbformat_minor": 2
}
